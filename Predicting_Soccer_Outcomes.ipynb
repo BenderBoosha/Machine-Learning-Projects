{
 "cells": [
  {
   "cell_type": "markdown",
   "id": "23335978-3bc1-4665-8bc9-d5f4899df951",
   "metadata": {},
   "source": [
    "# Course 3 Final Project: Predicting Soccer Outcomes"
   ]
  },
  {
   "cell_type": "markdown",
   "id": "4b60ac72-e3d6-4206-8ac5-280608e7fd1a",
   "metadata": {},
   "source": [
    "---"
   ]
  },
  {
   "cell_type": "markdown",
   "id": "dfe0bc0c-cff5-4376-b808-ea2b1e8319b8",
   "metadata": {},
   "source": [
    "In this report, I am going to load in a data set with information regarding soccer games played in the Premier League during the 2020-2021 season, and I am going to create a model taking in the features of the dataset to determine the outcome of the game for the home team. Since during this time the COVID-19 pandemic occurred, we will have to adjust some values. The data set has the following columns:\n",
    "- date: the date of the game\n",
    "- time: the time of the game\n",
    "- comp: the competition of the game\n",
    "- round: the round of the game\n",
    "- day: the day of the week of the game\n",
    "- venue: the venue of the game\n",
    "- result: the result of the game\n",
    "- gf: the goals for the home team\n",
    "- ga: the goals for the away team\n",
    "- opponent: the opponent of the home team\n",
    "- xg: the expected goals for the home team\n",
    "- xga: the expected goals for the away team\n",
    "- poss: the possession of the home team\n",
    "- captain: the captain of the home team\n",
    "- formation: the formation of the home team\n",
    "- referee: the referee of the game\n",
    "- sh: the shots of the home team\n",
    "- sot: the shots on target of the home team\n",
    "- dist: the average distance of the shots of the home team\n",
    "- fk: the free kicks of the home team\n",
    "- pk: the penalty kicks of the home team\n",
    "- pkatt: the penalty kicks attempted of the home team\n",
    "- season: the season year of the match\n",
    "- team: the home team"
   ]
  },
  {
   "cell_type": "markdown",
   "id": "0096eb35-52cd-4bc0-8fc1-aae41ab979a6",
   "metadata": {},
   "source": [
    "---"
   ]
  },
  {
   "cell_type": "markdown",
   "id": "d3b4fb50-9d7f-413e-a638-bd030e81a965",
   "metadata": {},
   "source": [
    "# Importing Necessary Libraries"
   ]
  },
  {
   "cell_type": "code",
   "execution_count": 67,
   "id": "517894ca-4835-4fc1-851d-abd18883669f",
   "metadata": {},
   "outputs": [],
   "source": [
    "import pandas as pd\n",
    "import numpy as np\n",
    "import seaborn as sns\n",
    "import matplotlib.pyplot as plt\n",
    "\n",
    "from imblearn.over_sampling import SMOTE\n",
    "\n",
    "from sklearn.preprocessing import StandardScaler, LabelEncoder, OneHotEncoder, MinMaxScaler\n",
    "from sklearn.model_selection import train_test_split, GridSearchCV\n",
    "from sklearn.linear_model import LogisticRegression, LogisticRegressionCV\n",
    "from sklearn.neighbors import KNeighborsClassifier\n",
    "from sklearn.svm import SVC\n",
    "from sklearn.tree import DecisionTreeClassifier\n",
    "from sklearn.ensemble import AdaBoostClassifier, BaggingClassifier, ExtraTreesClassifier, RandomForestClassifier, GradientBoostingClassifier\n",
    "from sklearn.metrics import precision_recall_fscore_support, confusion_matrix, accuracy_score, classification_report\n",
    "from sklearn.pipeline import Pipeline\n",
    "\n",
    "import warnings\n",
    "warnings.filterwarnings(\"ignore\") "
   ]
  },
  {
   "cell_type": "markdown",
   "id": "53c9cb7a-cada-4404-a9ae-b6fa03b7c636",
   "metadata": {},
   "source": [
    "---"
   ]
  },
  {
   "cell_type": "markdown",
   "id": "bf7d896a-d8bf-4d7a-93ee-8d47c99ae356",
   "metadata": {},
   "source": [
    "# About the Data:"
   ]
  },
  {
   "cell_type": "code",
   "execution_count": 68,
   "id": "f8af15ff-f361-45c9-899f-35d1da4059f9",
   "metadata": {},
   "outputs": [
    {
     "data": {
      "text/html": [
       "<div>\n",
       "<style scoped>\n",
       "    .dataframe tbody tr th:only-of-type {\n",
       "        vertical-align: middle;\n",
       "    }\n",
       "\n",
       "    .dataframe tbody tr th {\n",
       "        vertical-align: top;\n",
       "    }\n",
       "\n",
       "    .dataframe thead th {\n",
       "        text-align: right;\n",
       "    }\n",
       "</style>\n",
       "<table border=\"1\" class=\"dataframe\">\n",
       "  <thead>\n",
       "    <tr style=\"text-align: right;\">\n",
       "      <th></th>\n",
       "      <th>Unnamed: 0</th>\n",
       "      <th>date</th>\n",
       "      <th>time</th>\n",
       "      <th>comp</th>\n",
       "      <th>round</th>\n",
       "      <th>day</th>\n",
       "      <th>venue</th>\n",
       "      <th>result</th>\n",
       "      <th>gf</th>\n",
       "      <th>ga</th>\n",
       "      <th>...</th>\n",
       "      <th>match report</th>\n",
       "      <th>notes</th>\n",
       "      <th>sh</th>\n",
       "      <th>sot</th>\n",
       "      <th>dist</th>\n",
       "      <th>fk</th>\n",
       "      <th>pk</th>\n",
       "      <th>pkatt</th>\n",
       "      <th>season</th>\n",
       "      <th>team</th>\n",
       "    </tr>\n",
       "  </thead>\n",
       "  <tbody>\n",
       "    <tr>\n",
       "      <th>0</th>\n",
       "      <td>0</td>\n",
       "      <td>2020-09-21</td>\n",
       "      <td>20:15 (21:15)</td>\n",
       "      <td>Premier League</td>\n",
       "      <td>Matchweek 2</td>\n",
       "      <td>Mon</td>\n",
       "      <td>Away</td>\n",
       "      <td>W</td>\n",
       "      <td>3</td>\n",
       "      <td>1</td>\n",
       "      <td>...</td>\n",
       "      <td>Match Report</td>\n",
       "      <td>NaN</td>\n",
       "      <td>13</td>\n",
       "      <td>8</td>\n",
       "      <td>21.1</td>\n",
       "      <td>2</td>\n",
       "      <td>1</td>\n",
       "      <td>1</td>\n",
       "      <td>2024</td>\n",
       "      <td>Manchester City</td>\n",
       "    </tr>\n",
       "    <tr>\n",
       "      <th>1</th>\n",
       "      <td>2</td>\n",
       "      <td>2020-09-27</td>\n",
       "      <td>16:30 (17:30)</td>\n",
       "      <td>Premier League</td>\n",
       "      <td>Matchweek 3</td>\n",
       "      <td>Sun</td>\n",
       "      <td>Home</td>\n",
       "      <td>L</td>\n",
       "      <td>2</td>\n",
       "      <td>5</td>\n",
       "      <td>...</td>\n",
       "      <td>Match Report</td>\n",
       "      <td>NaN</td>\n",
       "      <td>16</td>\n",
       "      <td>5</td>\n",
       "      <td>19.8</td>\n",
       "      <td>1</td>\n",
       "      <td>0</td>\n",
       "      <td>0</td>\n",
       "      <td>2024</td>\n",
       "      <td>Manchester City</td>\n",
       "    </tr>\n",
       "    <tr>\n",
       "      <th>2</th>\n",
       "      <td>4</td>\n",
       "      <td>2020-10-03</td>\n",
       "      <td>17:30 (18:30)</td>\n",
       "      <td>Premier League</td>\n",
       "      <td>Matchweek 4</td>\n",
       "      <td>Sat</td>\n",
       "      <td>Away</td>\n",
       "      <td>D</td>\n",
       "      <td>1</td>\n",
       "      <td>1</td>\n",
       "      <td>...</td>\n",
       "      <td>Match Report</td>\n",
       "      <td>NaN</td>\n",
       "      <td>23</td>\n",
       "      <td>1</td>\n",
       "      <td>18.2</td>\n",
       "      <td>1</td>\n",
       "      <td>0</td>\n",
       "      <td>0</td>\n",
       "      <td>2024</td>\n",
       "      <td>Manchester City</td>\n",
       "    </tr>\n",
       "    <tr>\n",
       "      <th>3</th>\n",
       "      <td>5</td>\n",
       "      <td>2020-10-17</td>\n",
       "      <td>17:30 (18:30)</td>\n",
       "      <td>Premier League</td>\n",
       "      <td>Matchweek 5</td>\n",
       "      <td>Sat</td>\n",
       "      <td>Home</td>\n",
       "      <td>W</td>\n",
       "      <td>1</td>\n",
       "      <td>0</td>\n",
       "      <td>...</td>\n",
       "      <td>Match Report</td>\n",
       "      <td>NaN</td>\n",
       "      <td>13</td>\n",
       "      <td>5</td>\n",
       "      <td>17.7</td>\n",
       "      <td>0</td>\n",
       "      <td>0</td>\n",
       "      <td>0</td>\n",
       "      <td>2024</td>\n",
       "      <td>Manchester City</td>\n",
       "    </tr>\n",
       "    <tr>\n",
       "      <th>4</th>\n",
       "      <td>7</td>\n",
       "      <td>2020-10-24</td>\n",
       "      <td>12:30 (13:30)</td>\n",
       "      <td>Premier League</td>\n",
       "      <td>Matchweek 6</td>\n",
       "      <td>Sat</td>\n",
       "      <td>Away</td>\n",
       "      <td>D</td>\n",
       "      <td>1</td>\n",
       "      <td>1</td>\n",
       "      <td>...</td>\n",
       "      <td>Match Report</td>\n",
       "      <td>NaN</td>\n",
       "      <td>14</td>\n",
       "      <td>7</td>\n",
       "      <td>20.9</td>\n",
       "      <td>1</td>\n",
       "      <td>0</td>\n",
       "      <td>0</td>\n",
       "      <td>2024</td>\n",
       "      <td>Manchester City</td>\n",
       "    </tr>\n",
       "  </tbody>\n",
       "</table>\n",
       "<p>5 rows × 28 columns</p>\n",
       "</div>"
      ],
      "text/plain": [
       "   Unnamed: 0        date           time            comp        round  day  \\\n",
       "0           0  2020-09-21  20:15 (21:15)  Premier League  Matchweek 2  Mon   \n",
       "1           2  2020-09-27  16:30 (17:30)  Premier League  Matchweek 3  Sun   \n",
       "2           4  2020-10-03  17:30 (18:30)  Premier League  Matchweek 4  Sat   \n",
       "3           5  2020-10-17  17:30 (18:30)  Premier League  Matchweek 5  Sat   \n",
       "4           7  2020-10-24  12:30 (13:30)  Premier League  Matchweek 6  Sat   \n",
       "\n",
       "  venue result  gf  ga  ...  match report  notes  sh  sot  dist fk pk pkatt  \\\n",
       "0  Away      W   3   1  ...  Match Report    NaN  13    8  21.1  2  1     1   \n",
       "1  Home      L   2   5  ...  Match Report    NaN  16    5  19.8  1  0     0   \n",
       "2  Away      D   1   1  ...  Match Report    NaN  23    1  18.2  1  0     0   \n",
       "3  Home      W   1   0  ...  Match Report    NaN  13    5  17.7  0  0     0   \n",
       "4  Away      D   1   1  ...  Match Report    NaN  14    7  20.9  1  0     0   \n",
       "\n",
       "  season             team  \n",
       "0   2024  Manchester City  \n",
       "1   2024  Manchester City  \n",
       "2   2024  Manchester City  \n",
       "3   2024  Manchester City  \n",
       "4   2024  Manchester City  \n",
       "\n",
       "[5 rows x 28 columns]"
      ]
     },
     "execution_count": 68,
     "metadata": {},
     "output_type": "execute_result"
    }
   ],
   "source": [
    "df = pd.read_csv(\"data.csv\")\n",
    "pl_df = df.copy()\n",
    "pl_df.head()"
   ]
  },
  {
   "cell_type": "markdown",
   "id": "567089e0-ccb9-404c-a3f8-7688f037d1df",
   "metadata": {},
   "source": [
    "Let's check to see how many null values, the shape, and general information about the dataset:"
   ]
  },
  {
   "cell_type": "code",
   "execution_count": 69,
   "id": "93760cfa-34c2-440c-a255-438e3406275f",
   "metadata": {},
   "outputs": [
    {
     "name": "stdout",
     "output_type": "stream",
     "text": [
      "Shape of the dataset: (4788, 28)\n",
      "\n",
      "Number of nulls: 6423\n",
      "\n",
      "Number of duplicate rows: 0\n",
      "\n",
      "The amount of each data type:\n",
      " object     13\n",
      "int64      10\n",
      "float64     5\n",
      "Name: count, dtype: int64\n"
     ]
    }
   ],
   "source": [
    "print(\"Shape of the dataset:\",pl_df.shape)\n",
    "print(\"\\nNumber of nulls:\",pl_df.isnull().sum().sum())\n",
    "print(\"\\nNumber of duplicate rows:\",pl_df.duplicated().sum())\n",
    "print(\"\\nThe amount of each data type:\\n\",pl_df.dtypes.value_counts())"
   ]
  },
  {
   "cell_type": "markdown",
   "id": "8b3d15c7-36a9-4830-b776-fbe217b5effd",
   "metadata": {},
   "source": [
    "Finally, let's look at the distribution of the outcomes of the matches. As we can see, the distribution is slightly unbalanced in terms of draws. We will fix that in the preprocessing step."
   ]
  },
  {
   "cell_type": "code",
   "execution_count": 70,
   "id": "7009f7ac-172e-4381-9774-eecf35faca21",
   "metadata": {},
   "outputs": [
    {
     "data": {
      "text/plain": [
       "result\n",
       "W    0.395781\n",
       "L    0.380117\n",
       "D    0.224102\n",
       "Name: proportion, dtype: float64"
      ]
     },
     "execution_count": 70,
     "metadata": {},
     "output_type": "execute_result"
    }
   ],
   "source": [
    "pl_df['result'].value_counts(normalize=True)"
   ]
  },
  {
   "cell_type": "code",
   "execution_count": 71,
   "id": "788e430e-f423-4cbf-9163-0b32e110f732",
   "metadata": {},
   "outputs": [
    {
     "data": {
      "text/plain": [
       "<Axes: title={'center': 'Distribution of Results'}, xlabel='Result', ylabel='Frequency'>"
      ]
     },
     "execution_count": 71,
     "metadata": {},
     "output_type": "execute_result"
    },
    {
     "data": {
      "image/png": "[encoded data removed]",
      "text/plain": [
       "<Figure size 640x480 with 1 Axes>"
      ]
     },
     "metadata": {},
     "output_type": "display_data"
    }
   ],
   "source": [
    "pl_df['result'].value_counts().plot.bar(xlabel='Result', ylabel='Frequency', title='Distribution of Results')"
   ]
  },
  {
   "cell_type": "markdown",
   "id": "e54465ff-74a1-46ab-86be-d87b582fa38a",
   "metadata": {},
   "source": [
    "---"
   ]
  },
  {
   "cell_type": "markdown",
   "id": "c1262c6f-1575-4997-b086-f8cca13786d1",
   "metadata": {},
   "source": [
    "# Manipulation"
   ]
  },
  {
   "cell_type": "markdown",
   "id": "3912f466-4b79-4b37-b78a-27d3f1a76b20",
   "metadata": {},
   "source": [
    "We can see that the `notes` column contains only null values. Also, the `attendance` column has some null values, probably due to COVID-19. Even though that would be an interesting feature to play with, we are going to drop the column since a fourth of the values are null. In the future, we could play with the data set that does not contain those values, but contains the whole feature of attendance. Lastly, `dist` has 2 null values. Let's drop those occurences."
   ]
  },
  {
   "cell_type": "code",
   "execution_count": 72,
   "id": "faf0df4a-a58d-4a91-b7fa-08f23f4f34cd",
   "metadata": {},
   "outputs": [
    {
     "data": {
      "text/plain": [
       "Unnamed: 0         0\n",
       "date               0\n",
       "time               0\n",
       "comp               0\n",
       "round              0\n",
       "day                0\n",
       "venue              0\n",
       "result             0\n",
       "gf                 0\n",
       "ga                 0\n",
       "opponent           0\n",
       "xg                 0\n",
       "xga                0\n",
       "poss               0\n",
       "attendance      1633\n",
       "captain            0\n",
       "formation          0\n",
       "referee            0\n",
       "match report       0\n",
       "notes           4788\n",
       "sh                 0\n",
       "sot                0\n",
       "dist               2\n",
       "fk                 0\n",
       "pk                 0\n",
       "pkatt              0\n",
       "season             0\n",
       "team               0\n",
       "dtype: int64"
      ]
     },
     "execution_count": 72,
     "metadata": {},
     "output_type": "execute_result"
    }
   ],
   "source": [
    "pl_df.isnull().sum()"
   ]
  },
  {
   "cell_type": "code",
   "execution_count": 73,
   "id": "97ee59d5-76fd-460d-869d-c0a8b713f3fe",
   "metadata": {},
   "outputs": [],
   "source": [
    "pl_df.drop(columns=['notes', 'attendance', df.columns[0]], inplace=True)"
   ]
  },
  {
   "cell_type": "code",
   "execution_count": 74,
   "id": "5d4be2c3-7aac-49f8-82de-34f3e7e22b24",
   "metadata": {},
   "outputs": [],
   "source": [
    "pl_df.drop(index=pl_df[pl_df['dist'].isnull()].index, inplace=True)"
   ]
  },
  {
   "cell_type": "code",
   "execution_count": 75,
   "id": "57238516-613b-47a0-b83f-98514e07472b",
   "metadata": {},
   "outputs": [
    {
     "name": "stdout",
     "output_type": "stream",
     "text": [
      "date            0\n",
      "time            0\n",
      "comp            0\n",
      "round           0\n",
      "day             0\n",
      "venue           0\n",
      "result          0\n",
      "gf              0\n",
      "ga              0\n",
      "opponent        0\n",
      "xg              0\n",
      "xga             0\n",
      "poss            0\n",
      "captain         0\n",
      "formation       0\n",
      "referee         0\n",
      "match report    0\n",
      "sh              0\n",
      "sot             0\n",
      "dist            0\n",
      "fk              0\n",
      "pk              0\n",
      "pkatt           0\n",
      "season          0\n",
      "team            0\n",
      "dtype: int64\n",
      "\n",
      "Shape of new dataset:  (4786, 25)\n",
      "Shape of old dataset:  (4788, 28)\n"
     ]
    }
   ],
   "source": [
    "print(pl_df.isnull().sum())\n",
    "print(\"\\nShape of new dataset: \", pl_df.shape)\n",
    "print(\"Shape of old dataset: \", df.shape)"
   ]
  },
  {
   "cell_type": "markdown",
   "id": "459e29b5-93ea-4f10-8694-fd5f1f67e1ac",
   "metadata": {},
   "source": [
    "Looking into the data, we want to remove repeated rows. If we include all the features, there are no repeated rows, however, if we look at all the features except season, we can see we have duplicates. We can remove these rows since we are just predicting wins or losses. If we were predicting wins or losses for specific teams, we would need to leave them in as they would add weight. For the general aspect of winning, losing, or drawing, we can remove these duplicates."
   ]
  },
  {
   "cell_type": "code",
   "execution_count": 76,
   "id": "aa990b0d-acb6-4dcb-97f7-c3451454a909",
   "metadata": {},
   "outputs": [
    {
     "name": "stdout",
     "output_type": "stream",
     "text": [
      "There are 987 duplicated rows when the season column is removed.\n",
      "\n",
      "Dropping the duplicates:\n",
      "The total amount of rows before dropping: 4786\n",
      "There are 0 duplicated rows when the season column is removed.\n",
      "The total amount of rows after dropping: 3799\n",
      "\n",
      "The difference between the two: 987\n"
     ]
    }
   ],
   "source": [
    "cols = pl_df.columns\n",
    "cols = cols.drop('season')\n",
    "print(\"There are {} duplicated rows when the season column is removed.\\n\".format(pl_df.duplicated(subset=cols).sum()))\n",
    "print(\"Dropping the duplicates:\")\n",
    "before_drop = pl_df.shape[0]\n",
    "print(\"The total amount of rows before dropping: {}\".format(before_drop))\n",
    "\n",
    "pl_df.drop_duplicates(subset=cols, inplace=True)\n",
    "print(\"There are {} duplicated rows when the season column is removed.\".format(pl_df.duplicated(subset=cols).sum()))\n",
    "print(\"The total amount of rows after dropping: {}\".format(pl_df.shape[0]))\n",
    "print(f\"\\nThe difference between the two: {before_drop - pl_df.shape[0]}\")"
   ]
  },
  {
   "cell_type": "markdown",
   "id": "e8f22d7e-9db7-4e54-b19a-7e3003fee052",
   "metadata": {},
   "source": [
    "After cleaning up that part of the data set, let us make add a new feature for the dataset to help out our modeling!"
   ]
  },
  {
   "cell_type": "code",
   "execution_count": 77,
   "id": "11f99a5b-1783-4171-80c8-99020b43d130",
   "metadata": {},
   "outputs": [],
   "source": [
    "# Shot on target precentage for the home team\n",
    "pl_df['sot_perc'] = pl_df['sot'] / pl_df['sh']"
   ]
  },
  {
   "cell_type": "markdown",
   "id": "6735b741-a470-49c6-b942-ba534d1a1004",
   "metadata": {},
   "source": [
    "----"
   ]
  },
  {
   "cell_type": "markdown",
   "id": "9aa385c7-83dc-4b22-85a6-b0b3eade9257",
   "metadata": {},
   "source": [
    "# Preprocessing for Model"
   ]
  },
  {
   "cell_type": "markdown",
   "id": "a5524fdb-70fa-445f-b017-0ce1d3b2ac90",
   "metadata": {},
   "source": [
    "Firstly, what we need to do is obtain the features we are going to use to try and predict the match outcome. Then, we need to use encoding techniques for features that are not integer/floats."
   ]
  },
  {
   "cell_type": "markdown",
   "id": "6047925e-bcf2-4a6d-8bac-4c9a49f8848a",
   "metadata": {},
   "source": [
    "The features that we are going to select are:\n",
    "- gf: goals for the home team\n",
    "- ga: goals for the away team\n",
    "- xg: expected goals for the home team\n",
    "- xga: expected goals for the away team\n",
    "- poss: the possession of the home team\n",
    "- sot_perc: the precentage of shots on target for the home team\n",
    "- goal_perc: The goal percentage for the home team\n",
    "- dist: the average distance of the shots of the home team\n",
    "- fk: the free kicks of the home team\n",
    "- pk: the penalty kicks of the home team\n",
    "- pkatt: the penalty kicks attempted of the home team\n",
    "- result: the result of the game"
   ]
  },
  {
   "cell_type": "markdown",
   "id": "c845f94b-f1b2-4fb1-b621-574e567dd48e",
   "metadata": {},
   "source": [
    "`Note:` the result of the game is in terms of the Home team. If the result is 'W', then the home team won. If the result is 'L', then the home team lost (away team won). Finally, if the result is 'D', then the home and away team had a draw."
   ]
  },
  {
   "cell_type": "code",
   "execution_count": 78,
   "id": "3523e32f-33eb-4237-878e-3bf0f9279cea",
   "metadata": {},
   "outputs": [],
   "source": [
    "columns = ['xg','xga','poss', 'sot_perc', 'dist', 'fk', 'pk', 'pkatt', 'result']"
   ]
  },
  {
   "cell_type": "code",
   "execution_count": 79,
   "id": "9ef246fc-6ee9-41a1-899b-b751b9853a3f",
   "metadata": {},
   "outputs": [
    {
     "data": {
      "text/html": [
       "<div>\n",
       "<style scoped>\n",
       "    .dataframe tbody tr th:only-of-type {\n",
       "        vertical-align: middle;\n",
       "    }\n",
       "\n",
       "    .dataframe tbody tr th {\n",
       "        vertical-align: top;\n",
       "    }\n",
       "\n",
       "    .dataframe thead th {\n",
       "        text-align: right;\n",
       "    }\n",
       "</style>\n",
       "<table border=\"1\" class=\"dataframe\">\n",
       "  <thead>\n",
       "    <tr style=\"text-align: right;\">\n",
       "      <th></th>\n",
       "      <th>xg</th>\n",
       "      <th>xga</th>\n",
       "      <th>poss</th>\n",
       "      <th>sot_perc</th>\n",
       "      <th>dist</th>\n",
       "      <th>fk</th>\n",
       "      <th>pk</th>\n",
       "      <th>pkatt</th>\n",
       "      <th>result</th>\n",
       "    </tr>\n",
       "  </thead>\n",
       "  <tbody>\n",
       "    <tr>\n",
       "      <th>0</th>\n",
       "      <td>1.9</td>\n",
       "      <td>0.6</td>\n",
       "      <td>65</td>\n",
       "      <td>0.615385</td>\n",
       "      <td>21.1</td>\n",
       "      <td>2</td>\n",
       "      <td>1</td>\n",
       "      <td>1</td>\n",
       "      <td>W</td>\n",
       "    </tr>\n",
       "    <tr>\n",
       "      <th>1</th>\n",
       "      <td>0.9</td>\n",
       "      <td>2.9</td>\n",
       "      <td>72</td>\n",
       "      <td>0.312500</td>\n",
       "      <td>19.8</td>\n",
       "      <td>1</td>\n",
       "      <td>0</td>\n",
       "      <td>0</td>\n",
       "      <td>L</td>\n",
       "    </tr>\n",
       "    <tr>\n",
       "      <th>2</th>\n",
       "      <td>1.2</td>\n",
       "      <td>2.4</td>\n",
       "      <td>49</td>\n",
       "      <td>0.043478</td>\n",
       "      <td>18.2</td>\n",
       "      <td>1</td>\n",
       "      <td>0</td>\n",
       "      <td>0</td>\n",
       "      <td>D</td>\n",
       "    </tr>\n",
       "    <tr>\n",
       "      <th>3</th>\n",
       "      <td>1.3</td>\n",
       "      <td>0.9</td>\n",
       "      <td>58</td>\n",
       "      <td>0.384615</td>\n",
       "      <td>17.7</td>\n",
       "      <td>0</td>\n",
       "      <td>0</td>\n",
       "      <td>0</td>\n",
       "      <td>W</td>\n",
       "    </tr>\n",
       "    <tr>\n",
       "      <th>4</th>\n",
       "      <td>1.0</td>\n",
       "      <td>0.3</td>\n",
       "      <td>69</td>\n",
       "      <td>0.500000</td>\n",
       "      <td>20.9</td>\n",
       "      <td>1</td>\n",
       "      <td>0</td>\n",
       "      <td>0</td>\n",
       "      <td>D</td>\n",
       "    </tr>\n",
       "  </tbody>\n",
       "</table>\n",
       "</div>"
      ],
      "text/plain": [
       "    xg  xga  poss  sot_perc  dist  fk  pk  pkatt result\n",
       "0  1.9  0.6    65  0.615385  21.1   2   1      1      W\n",
       "1  0.9  2.9    72  0.312500  19.8   1   0      0      L\n",
       "2  1.2  2.4    49  0.043478  18.2   1   0      0      D\n",
       "3  1.3  0.9    58  0.384615  17.7   0   0      0      W\n",
       "4  1.0  0.3    69  0.500000  20.9   1   0      0      D"
      ]
     },
     "execution_count": 79,
     "metadata": {},
     "output_type": "execute_result"
    }
   ],
   "source": [
    "new_df = pl_df[columns]\n",
    "new_df.head()"
   ]
  },
  {
   "cell_type": "markdown",
   "id": "f971884c-d287-4138-aa18-fa4107166019",
   "metadata": {},
   "source": [
    "Now, let's use label encoding for the results column:"
   ]
  },
  {
   "cell_type": "code",
   "execution_count": 80,
   "id": "b1e27c20-2ca9-4157-a0a6-68ec91502e9f",
   "metadata": {},
   "outputs": [],
   "source": [
    "le = LabelEncoder()\n",
    "new_df.loc[:,'result'] = le.fit_transform(new_df['result'])"
   ]
  },
  {
   "cell_type": "code",
   "execution_count": 81,
   "id": "484363fe-ef16-4506-a7de-e19312234aa7",
   "metadata": {},
   "outputs": [
    {
     "name": "stdout",
     "output_type": "stream",
     "text": [
      "The mapping from the results to numeric values: {'D': 0, 'L': 1, 'W': 2}\n"
     ]
    }
   ],
   "source": [
    "mapping = dict(zip(le.classes_, range(len(le.classes_))))\n",
    "print(\"The mapping from the results to numeric values:\", mapping)"
   ]
  },
  {
   "cell_type": "markdown",
   "id": "00ed2150-9371-41f2-a5bc-0c6bdeec4c27",
   "metadata": {},
   "source": [
    "Now, let's get out X and y, and then run a train_test_split"
   ]
  },
  {
   "cell_type": "code",
   "execution_count": 82,
   "id": "1684d08c-60d1-408d-aaf9-d057dd1aacd3",
   "metadata": {},
   "outputs": [],
   "source": [
    "X = new_df.iloc[:,:-1]\n",
    "y = new_df.result"
   ]
  },
  {
   "cell_type": "code",
   "execution_count": 83,
   "id": "f2c32e3f-b30b-41c2-97aa-8570b0822b8d",
   "metadata": {},
   "outputs": [],
   "source": [
    "X_train, X_test, y_train, y_test = train_test_split(X, y, test_size = 0.3, stratify = y)"
   ]
  },
  {
   "cell_type": "code",
   "execution_count": 84,
   "id": "8a10c399-c4f3-4b84-a6ed-580355b2bb5e",
   "metadata": {},
   "outputs": [],
   "source": [
    "y_train = y_train.astype(int)\n",
    "y_test = y_test.astype(int)"
   ]
  },
  {
   "cell_type": "code",
   "execution_count": 85,
   "id": "aa6cf8b2-48cc-47d8-a594-c2b8d07835a5",
   "metadata": {},
   "outputs": [],
   "source": [
    "# Creating a balanced set\n",
    "smote = SMOTE(random_state=42)\n",
    "X_train, y_train = smote.fit_resample(X_train, y_train)"
   ]
  },
  {
   "cell_type": "code",
   "execution_count": 86,
   "id": "77c53fd9-b356-4e7b-9ebd-d3d26ed17534",
   "metadata": {},
   "outputs": [
    {
     "data": {
      "text/plain": [
       "result\n",
       "0    0.333333\n",
       "2    0.333333\n",
       "1    0.333333\n",
       "Name: proportion, dtype: float64"
      ]
     },
     "execution_count": 86,
     "metadata": {},
     "output_type": "execute_result"
    }
   ],
   "source": [
    "y_train.value_counts(normalize=True)"
   ]
  },
  {
   "cell_type": "code",
   "execution_count": 87,
   "id": "7d58993b-5fa5-4230-ae2d-065467e41df7",
   "metadata": {},
   "outputs": [
    {
     "data": {
      "text/plain": [
       "<Axes: title={'center': 'Distribution of Results after SMOTE'}, xlabel='Result', ylabel='Frequency'>"
      ]
     },
     "execution_count": 87,
     "metadata": {},
     "output_type": "execute_result"
    },
    {
     "data": {
      "image/png": "[encoded data removed]",
      "text/plain": [
       "<Figure size 640x480 with 1 Axes>"
      ]
     },
     "metadata": {},
     "output_type": "display_data"
    }
   ],
   "source": [
    "y_train.value_counts().plot.bar(xlabel='Result', ylabel='Frequency', title='Distribution of Results after SMOTE')"
   ]
  },
  {
   "cell_type": "markdown",
   "id": "e8131344-e4fc-4b82-93af-4d81c4f3f8ee",
   "metadata": {},
   "source": [
    "---"
   ]
  },
  {
   "cell_type": "markdown",
   "id": "f23539f9-b8e9-4ca7-9368-7daf507056da",
   "metadata": {},
   "source": [
    "# Models"
   ]
  },
  {
   "cell_type": "markdown",
   "id": "1807eaf5-9164-4ca2-841a-842338ad6603",
   "metadata": {},
   "source": [
    "## Logistic Regression"
   ]
  },
  {
   "cell_type": "markdown",
   "id": "410221d6-a157-4128-890b-d13bccdfa279",
   "metadata": {},
   "source": [
    "Let's look at the LogisticRegression model:"
   ]
  },
  {
   "cell_type": "code",
   "execution_count": 88,
   "id": "d9e05807-9c8f-4c35-8f31-1c2ff2445b81",
   "metadata": {},
   "outputs": [
    {
     "name": "stdout",
     "output_type": "stream",
     "text": [
      "              precision    recall  f1-score   support\n",
      "\n",
      "           0       0.33      0.42      0.37       259\n",
      "           1       0.67      0.64      0.66       440\n",
      "           2       0.69      0.61      0.65       441\n",
      "\n",
      "    accuracy                           0.58      1140\n",
      "   macro avg       0.57      0.56      0.56      1140\n",
      "weighted avg       0.60      0.58      0.59      1140\n",
      "\n"
     ]
    }
   ],
   "source": [
    "lr = LogisticRegression()\n",
    "lr.fit(X_train, y_train)\n",
    "y_pred_lr = lr.predict(X_test)\n",
    "print(classification_report(y_test, y_pred_lr))"
   ]
  },
  {
   "cell_type": "code",
   "execution_count": 89,
   "id": "aea7657c-ce35-4bec-82ec-aa643bcdba4f",
   "metadata": {},
   "outputs": [
    {
     "data": {
      "image/png": "[encoded data removed]",
      "text/plain": [
       "<Figure size 640x480 with 1 Axes>"
      ]
     },
     "metadata": {},
     "output_type": "display_data"
    }
   ],
   "source": [
    "sns.heatmap(confusion_matrix(y_test, y_pred_lr), annot=True, fmt='d', cmap='Blues', cbar=False)\n",
    "plt.xlabel('Predicted', fontsize=12, fontweight='bold')\n",
    "plt.ylabel('Actual', fontsize=12, fontweight='bold')\n",
    "plt.title('LogisticRegression')\n",
    "plt.show()"
   ]
  },
  {
   "cell_type": "markdown",
   "id": "61391a7b-6bd0-4b0c-ac8f-eca265dd1fb2",
   "metadata": {},
   "source": [
    "Let's use GridSearchCV to find the best parameters!"
   ]
  },
  {
   "cell_type": "code",
   "execution_count": 90,
   "id": "676830d4-364c-4097-ab39-6af389847c4f",
   "metadata": {},
   "outputs": [
    {
     "name": "stdout",
     "output_type": "stream",
     "text": [
      "{'C': 0.1, 'penalty': 'l1', 'solver': 'liblinear'}\n",
      "              precision    recall  f1-score   support\n",
      "\n",
      "           0       0.31      0.29      0.30       259\n",
      "           1       0.65      0.67      0.66       440\n",
      "           2       0.67      0.68      0.67       441\n",
      "\n",
      "    accuracy                           0.59      1140\n",
      "   macro avg       0.54      0.55      0.54      1140\n",
      "weighted avg       0.58      0.59      0.58      1140\n",
      "\n"
     ]
    }
   ],
   "source": [
    "param_grid = {\n",
    "    'penalty': ['l1','l2'],\n",
    "    'C': [0.1,0.5,1,2,3,4,5,10],\n",
    "    'solver': ['liblinear', 'newton-cg', 'newton-cholesky', 'sag', 'saga']\n",
    "}\n",
    "\n",
    "search = GridSearchCV(estimator = LogisticRegression(), param_grid = param_grid, scoring = 'f1', cv = 5)\n",
    "search.fit(X_train,y_train)\n",
    "print(search.best_params_)\n",
    "y_pred_lr2 = search.best_estimator_.predict(X_test)\n",
    "print(classification_report(y_test, y_pred_lr2))"
   ]
  },
  {
   "cell_type": "code",
   "execution_count": 91,
   "id": "fd25dd11-8e00-41c3-820b-af7911297c57",
   "metadata": {},
   "outputs": [
    {
     "data": {
      "image/png": "[encoded data removed]",
      "text/plain": [
       "<Figure size 640x480 with 1 Axes>"
      ]
     },
     "metadata": {},
     "output_type": "display_data"
    }
   ],
   "source": [
    "sns.heatmap(confusion_matrix(y_test, y_pred_lr2), annot=True, fmt='d', cmap='Blues', cbar=False)\n",
    "plt.xlabel('Predicted', fontsize=12, fontweight='bold')\n",
    "plt.ylabel('Actual', fontsize=12, fontweight='bold')\n",
    "plt.title('Best Estimator LogisticRegression')\n",
    "plt.show()"
   ]
  },
  {
   "cell_type": "markdown",
   "id": "bc3b2708-f4d3-407f-a6ed-60a022d5b6ad",
   "metadata": {},
   "source": [
    "As we can see, for predicting a draw, the recall and f1-score are EXTREMELY low. The precision as well is abnormally low. LogisticRegression might not the be most beneficial model to use. Let's look at other models."
   ]
  },
  {
   "cell_type": "markdown",
   "id": "238120f5-af2b-47f6-9249-e3c4275be412",
   "metadata": {},
   "source": [
    "## KNearestNeighbors"
   ]
  },
  {
   "cell_type": "markdown",
   "id": "d74ff3de-d1e5-4409-8f6b-cbb048354d43",
   "metadata": {},
   "source": [
    "Here, we first are going to start with KNearestNeighbors:"
   ]
  },
  {
   "cell_type": "code",
   "execution_count": 92,
   "id": "1e4858a1-cf07-4523-9a85-af5eee721431",
   "metadata": {},
   "outputs": [
    {
     "name": "stdout",
     "output_type": "stream",
     "text": [
      "              precision    recall  f1-score   support\n",
      "\n",
      "           0       0.24      0.42      0.31       259\n",
      "           1       0.56      0.47      0.51       440\n",
      "           2       0.57      0.41      0.48       441\n",
      "\n",
      "    accuracy                           0.44      1140\n",
      "   macro avg       0.46      0.43      0.43      1140\n",
      "weighted avg       0.49      0.44      0.45      1140\n",
      "\n"
     ]
    }
   ],
   "source": [
    "KNN = KNeighborsClassifier(n_neighbors=3)\n",
    "KNN = KNN.fit(X_train, y_train)\n",
    "y_pred_KNN = KNN.predict(X_test)\n",
    "print(classification_report(y_test, y_pred_KNN))"
   ]
  },
  {
   "cell_type": "code",
   "execution_count": 93,
   "id": "f013f86e-c389-4956-a54e-804d60613e7c",
   "metadata": {},
   "outputs": [
    {
     "data": {
      "image/png": "[encoded data removed]",
      "text/plain": [
       "<Figure size 640x480 with 1 Axes>"
      ]
     },
     "metadata": {},
     "output_type": "display_data"
    }
   ],
   "source": [
    "sns.heatmap(confusion_matrix(y_test, y_pred_KNN), annot=True, fmt='d', cmap='Blues', cbar=False)\n",
    "plt.xlabel('Predicted', fontsize=12, fontweight='bold')\n",
    "plt.ylabel('Actual', fontsize=12, fontweight='bold')\n",
    "plt.title('KNeighbors')\n",
    "plt.show()"
   ]
  },
  {
   "cell_type": "markdown",
   "id": "587f74fe-953f-488e-b1d8-eee0c24c6a71",
   "metadata": {},
   "source": [
    "Let's use GridSearchCV and cross-validation in order to find the best parameters for our KNN Model"
   ]
  },
  {
   "cell_type": "code",
   "execution_count": 94,
   "id": "68da3d56-1eed-45f3-82f7-1c32e1ac2977",
   "metadata": {},
   "outputs": [
    {
     "data": {
      "text/html": [
       "<style>#sk-container-id-2 {\n",
       "  /* Definition of color scheme common for light and dark mode */\n",
       "  --sklearn-color-text: black;\n",
       "  --sklearn-color-line: gray;\n",
       "  /* Definition of color scheme for unfitted estimators */\n",
       "  --sklearn-color-unfitted-level-0: #fff5e6;\n",
       "  --sklearn-color-unfitted-level-1: #f6e4d2;\n",
       "  --sklearn-color-unfitted-level-2: #ffe0b3;\n",
       "  --sklearn-color-unfitted-level-3: chocolate;\n",
       "  /* Definition of color scheme for fitted estimators */\n",
       "  --sklearn-color-fitted-level-0: #f0f8ff;\n",
       "  --sklearn-color-fitted-level-1: #d4ebff;\n",
       "  --sklearn-color-fitted-level-2: #b3dbfd;\n",
       "  --sklearn-color-fitted-level-3: cornflowerblue;\n",
       "\n",
       "  /* Specific color for light theme */\n",
       "  --sklearn-color-text-on-default-background: var(--sg-text-color, var(--theme-code-foreground, var(--jp-content-font-color1, black)));\n",
       "  --sklearn-color-background: var(--sg-background-color, var(--theme-background, var(--jp-layout-color0, white)));\n",
       "  --sklearn-color-border-box: var(--sg-text-color, var(--theme-code-foreground, var(--jp-content-font-color1, black)));\n",
       "  --sklearn-color-icon: #696969;\n",
       "\n",
       "  @media (prefers-color-scheme: dark) {\n",
       "    /* Redefinition of color scheme for dark theme */\n",
       "    --sklearn-color-text-on-default-background: var(--sg-text-color, var(--theme-code-foreground, var(--jp-content-font-color1, white)));\n",
       "    --sklearn-color-background: var(--sg-background-color, var(--theme-background, var(--jp-layout-color0, #111)));\n",
       "    --sklearn-color-border-box: var(--sg-text-color, var(--theme-code-foreground, var(--jp-content-font-color1, white)));\n",
       "    --sklearn-color-icon: #878787;\n",
       "  }\n",
       "}\n",
       "\n",
       "#sk-container-id-2 {\n",
       "  color: var(--sklearn-color-text);\n",
       "}\n",
       "\n",
       "#sk-container-id-2 pre {\n",
       "  padding: 0;\n",
       "}\n",
       "\n",
       "#sk-container-id-2 input.sk-hidden--visually {\n",
       "  border: 0;\n",
       "  clip: rect(1px 1px 1px 1px);\n",
       "  clip: rect(1px, 1px, 1px, 1px);\n",
       "  height: 1px;\n",
       "  margin: -1px;\n",
       "  overflow: hidden;\n",
       "  padding: 0;\n",
       "  position: absolute;\n",
       "  width: 1px;\n",
       "}\n",
       "\n",
       "#sk-container-id-2 div.sk-dashed-wrapped {\n",
       "  border: 1px dashed var(--sklearn-color-line);\n",
       "  margin: 0 0.4em 0.5em 0.4em;\n",
       "  box-sizing: border-box;\n",
       "  padding-bottom: 0.4em;\n",
       "  background-color: var(--sklearn-color-background);\n",
       "}\n",
       "\n",
       "#sk-container-id-2 div.sk-container {\n",
       "  /* jupyter's `normalize.less` sets `[hidden] { display: none; }`\n",
       "     but bootstrap.min.css set `[hidden] { display: none !important; }`\n",
       "     so we also need the `!important` here to be able to override the\n",
       "     default hidden behavior on the sphinx rendered scikit-learn.org.\n",
       "     See: https://github.com/scikit-learn/scikit-learn/issues/21755 */\n",
       "  display: inline-block !important;\n",
       "  position: relative;\n",
       "}\n",
       "\n",
       "#sk-container-id-2 div.sk-text-repr-fallback {\n",
       "  display: none;\n",
       "}\n",
       "\n",
       "div.sk-parallel-item,\n",
       "div.sk-serial,\n",
       "div.sk-item {\n",
       "  /* draw centered vertical line to link estimators */\n",
       "  background-image: linear-gradient(var(--sklearn-color-text-on-default-background), var(--sklearn-color-text-on-default-background));\n",
       "  background-size: 2px 100%;\n",
       "  background-repeat: no-repeat;\n",
       "  background-position: center center;\n",
       "}\n",
       "\n",
       "/* Parallel-specific style estimator block */\n",
       "\n",
       "#sk-container-id-2 div.sk-parallel-item::after {\n",
       "  content: \"\";\n",
       "  width: 100%;\n",
       "  border-bottom: 2px solid var(--sklearn-color-text-on-default-background);\n",
       "  flex-grow: 1;\n",
       "}\n",
       "\n",
       "#sk-container-id-2 div.sk-parallel {\n",
       "  display: flex;\n",
       "  align-items: stretch;\n",
       "  justify-content: center;\n",
       "  background-color: var(--sklearn-color-background);\n",
       "  position: relative;\n",
       "}\n",
       "\n",
       "#sk-container-id-2 div.sk-parallel-item {\n",
       "  display: flex;\n",
       "  flex-direction: column;\n",
       "}\n",
       "\n",
       "#sk-container-id-2 div.sk-parallel-item:first-child::after {\n",
       "  align-self: flex-end;\n",
       "  width: 50%;\n",
       "}\n",
       "\n",
       "#sk-container-id-2 div.sk-parallel-item:last-child::after {\n",
       "  align-self: flex-start;\n",
       "  width: 50%;\n",
       "}\n",
       "\n",
       "#sk-container-id-2 div.sk-parallel-item:only-child::after {\n",
       "  width: 0;\n",
       "}\n",
       "\n",
       "/* Serial-specific style estimator block */\n",
       "\n",
       "#sk-container-id-2 div.sk-serial {\n",
       "  display: flex;\n",
       "  flex-direction: column;\n",
       "  align-items: center;\n",
       "  background-color: var(--sklearn-color-background);\n",
       "  padding-right: 1em;\n",
       "  padding-left: 1em;\n",
       "}\n",
       "\n",
       "\n",
       "/* Toggleable style: style used for estimator/Pipeline/ColumnTransformer box that is\n",
       "clickable and can be expanded/collapsed.\n",
       "- Pipeline and ColumnTransformer use this feature and define the default style\n",
       "- Estimators will overwrite some part of the style using the `sk-estimator` class\n",
       "*/\n",
       "\n",
       "/* Pipeline and ColumnTransformer style (default) */\n",
       "\n",
       "#sk-container-id-2 div.sk-toggleable {\n",
       "  /* Default theme specific background. It is overwritten whether we have a\n",
       "  specific estimator or a Pipeline/ColumnTransformer */\n",
       "  background-color: var(--sklearn-color-background);\n",
       "}\n",
       "\n",
       "/* Toggleable label */\n",
       "#sk-container-id-2 label.sk-toggleable__label {\n",
       "  cursor: pointer;\n",
       "  display: block;\n",
       "  width: 100%;\n",
       "  margin-bottom: 0;\n",
       "  padding: 0.5em;\n",
       "  box-sizing: border-box;\n",
       "  text-align: center;\n",
       "}\n",
       "\n",
       "#sk-container-id-2 label.sk-toggleable__label-arrow:before {\n",
       "  /* Arrow on the left of the label */\n",
       "  content: \"▸\";\n",
       "  float: left;\n",
       "  margin-right: 0.25em;\n",
       "  color: var(--sklearn-color-icon);\n",
       "}\n",
       "\n",
       "#sk-container-id-2 label.sk-toggleable__label-arrow:hover:before {\n",
       "  color: var(--sklearn-color-text);\n",
       "}\n",
       "\n",
       "/* Toggleable content - dropdown */\n",
       "\n",
       "#sk-container-id-2 div.sk-toggleable__content {\n",
       "  max-height: 0;\n",
       "  max-width: 0;\n",
       "  overflow: hidden;\n",
       "  text-align: left;\n",
       "  /* unfitted */\n",
       "  background-color: var(--sklearn-color-unfitted-level-0);\n",
       "}\n",
       "\n",
       "#sk-container-id-2 div.sk-toggleable__content.fitted {\n",
       "  /* fitted */\n",
       "  background-color: var(--sklearn-color-fitted-level-0);\n",
       "}\n",
       "\n",
       "#sk-container-id-2 div.sk-toggleable__content pre {\n",
       "  margin: 0.2em;\n",
       "  border-radius: 0.25em;\n",
       "  color: var(--sklearn-color-text);\n",
       "  /* unfitted */\n",
       "  background-color: var(--sklearn-color-unfitted-level-0);\n",
       "}\n",
       "\n",
       "#sk-container-id-2 div.sk-toggleable__content.fitted pre {\n",
       "  /* unfitted */\n",
       "  background-color: var(--sklearn-color-fitted-level-0);\n",
       "}\n",
       "\n",
       "#sk-container-id-2 input.sk-toggleable__control:checked~div.sk-toggleable__content {\n",
       "  /* Expand drop-down */\n",
       "  max-height: 200px;\n",
       "  max-width: 100%;\n",
       "  overflow: auto;\n",
       "}\n",
       "\n",
       "#sk-container-id-2 input.sk-toggleable__control:checked~label.sk-toggleable__label-arrow:before {\n",
       "  content: \"▾\";\n",
       "}\n",
       "\n",
       "/* Pipeline/ColumnTransformer-specific style */\n",
       "\n",
       "#sk-container-id-2 div.sk-label input.sk-toggleable__control:checked~label.sk-toggleable__label {\n",
       "  color: var(--sklearn-color-text);\n",
       "  background-color: var(--sklearn-color-unfitted-level-2);\n",
       "}\n",
       "\n",
       "#sk-container-id-2 div.sk-label.fitted input.sk-toggleable__control:checked~label.sk-toggleable__label {\n",
       "  background-color: var(--sklearn-color-fitted-level-2);\n",
       "}\n",
       "\n",
       "/* Estimator-specific style */\n",
       "\n",
       "/* Colorize estimator box */\n",
       "#sk-container-id-2 div.sk-estimator input.sk-toggleable__control:checked~label.sk-toggleable__label {\n",
       "  /* unfitted */\n",
       "  background-color: var(--sklearn-color-unfitted-level-2);\n",
       "}\n",
       "\n",
       "#sk-container-id-2 div.sk-estimator.fitted input.sk-toggleable__control:checked~label.sk-toggleable__label {\n",
       "  /* fitted */\n",
       "  background-color: var(--sklearn-color-fitted-level-2);\n",
       "}\n",
       "\n",
       "#sk-container-id-2 div.sk-label label.sk-toggleable__label,\n",
       "#sk-container-id-2 div.sk-label label {\n",
       "  /* The background is the default theme color */\n",
       "  color: var(--sklearn-color-text-on-default-background);\n",
       "}\n",
       "\n",
       "/* On hover, darken the color of the background */\n",
       "#sk-container-id-2 div.sk-label:hover label.sk-toggleable__label {\n",
       "  color: var(--sklearn-color-text);\n",
       "  background-color: var(--sklearn-color-unfitted-level-2);\n",
       "}\n",
       "\n",
       "/* Label box, darken color on hover, fitted */\n",
       "#sk-container-id-2 div.sk-label.fitted:hover label.sk-toggleable__label.fitted {\n",
       "  color: var(--sklearn-color-text);\n",
       "  background-color: var(--sklearn-color-fitted-level-2);\n",
       "}\n",
       "\n",
       "/* Estimator label */\n",
       "\n",
       "#sk-container-id-2 div.sk-label label {\n",
       "  font-family: monospace;\n",
       "  font-weight: bold;\n",
       "  display: inline-block;\n",
       "  line-height: 1.2em;\n",
       "}\n",
       "\n",
       "#sk-container-id-2 div.sk-label-container {\n",
       "  text-align: center;\n",
       "}\n",
       "\n",
       "/* Estimator-specific */\n",
       "#sk-container-id-2 div.sk-estimator {\n",
       "  font-family: monospace;\n",
       "  border: 1px dotted var(--sklearn-color-border-box);\n",
       "  border-radius: 0.25em;\n",
       "  box-sizing: border-box;\n",
       "  margin-bottom: 0.5em;\n",
       "  /* unfitted */\n",
       "  background-color: var(--sklearn-color-unfitted-level-0);\n",
       "}\n",
       "\n",
       "#sk-container-id-2 div.sk-estimator.fitted {\n",
       "  /* fitted */\n",
       "  background-color: var(--sklearn-color-fitted-level-0);\n",
       "}\n",
       "\n",
       "/* on hover */\n",
       "#sk-container-id-2 div.sk-estimator:hover {\n",
       "  /* unfitted */\n",
       "  background-color: var(--sklearn-color-unfitted-level-2);\n",
       "}\n",
       "\n",
       "#sk-container-id-2 div.sk-estimator.fitted:hover {\n",
       "  /* fitted */\n",
       "  background-color: var(--sklearn-color-fitted-level-2);\n",
       "}\n",
       "\n",
       "/* Specification for estimator info (e.g. \"i\" and \"?\") */\n",
       "\n",
       "/* Common style for \"i\" and \"?\" */\n",
       "\n",
       ".sk-estimator-doc-link,\n",
       "a:link.sk-estimator-doc-link,\n",
       "a:visited.sk-estimator-doc-link {\n",
       "  float: right;\n",
       "  font-size: smaller;\n",
       "  line-height: 1em;\n",
       "  font-family: monospace;\n",
       "  background-color: var(--sklearn-color-background);\n",
       "  border-radius: 1em;\n",
       "  height: 1em;\n",
       "  width: 1em;\n",
       "  text-decoration: none !important;\n",
       "  margin-left: 1ex;\n",
       "  /* unfitted */\n",
       "  border: var(--sklearn-color-unfitted-level-1) 1pt solid;\n",
       "  color: var(--sklearn-color-unfitted-level-1);\n",
       "}\n",
       "\n",
       ".sk-estimator-doc-link.fitted,\n",
       "a:link.sk-estimator-doc-link.fitted,\n",
       "a:visited.sk-estimator-doc-link.fitted {\n",
       "  /* fitted */\n",
       "  border: var(--sklearn-color-fitted-level-1) 1pt solid;\n",
       "  color: var(--sklearn-color-fitted-level-1);\n",
       "}\n",
       "\n",
       "/* On hover */\n",
       "div.sk-estimator:hover .sk-estimator-doc-link:hover,\n",
       ".sk-estimator-doc-link:hover,\n",
       "div.sk-label-container:hover .sk-estimator-doc-link:hover,\n",
       ".sk-estimator-doc-link:hover {\n",
       "  /* unfitted */\n",
       "  background-color: var(--sklearn-color-unfitted-level-3);\n",
       "  color: var(--sklearn-color-background);\n",
       "  text-decoration: none;\n",
       "}\n",
       "\n",
       "div.sk-estimator.fitted:hover .sk-estimator-doc-link.fitted:hover,\n",
       ".sk-estimator-doc-link.fitted:hover,\n",
       "div.sk-label-container:hover .sk-estimator-doc-link.fitted:hover,\n",
       ".sk-estimator-doc-link.fitted:hover {\n",
       "  /* fitted */\n",
       "  background-color: var(--sklearn-color-fitted-level-3);\n",
       "  color: var(--sklearn-color-background);\n",
       "  text-decoration: none;\n",
       "}\n",
       "\n",
       "/* Span, style for the box shown on hovering the info icon */\n",
       ".sk-estimator-doc-link span {\n",
       "  display: none;\n",
       "  z-index: 9999;\n",
       "  position: relative;\n",
       "  font-weight: normal;\n",
       "  right: .2ex;\n",
       "  padding: .5ex;\n",
       "  margin: .5ex;\n",
       "  width: min-content;\n",
       "  min-width: 20ex;\n",
       "  max-width: 50ex;\n",
       "  color: var(--sklearn-color-text);\n",
       "  box-shadow: 2pt 2pt 4pt #999;\n",
       "  /* unfitted */\n",
       "  background: var(--sklearn-color-unfitted-level-0);\n",
       "  border: .5pt solid var(--sklearn-color-unfitted-level-3);\n",
       "}\n",
       "\n",
       ".sk-estimator-doc-link.fitted span {\n",
       "  /* fitted */\n",
       "  background: var(--sklearn-color-fitted-level-0);\n",
       "  border: var(--sklearn-color-fitted-level-3);\n",
       "}\n",
       "\n",
       ".sk-estimator-doc-link:hover span {\n",
       "  display: block;\n",
       "}\n",
       "\n",
       "/* \"?\"-specific style due to the `<a>` HTML tag */\n",
       "\n",
       "#sk-container-id-2 a.estimator_doc_link {\n",
       "  float: right;\n",
       "  font-size: 1rem;\n",
       "  line-height: 1em;\n",
       "  font-family: monospace;\n",
       "  background-color: var(--sklearn-color-background);\n",
       "  border-radius: 1rem;\n",
       "  height: 1rem;\n",
       "  width: 1rem;\n",
       "  text-decoration: none;\n",
       "  /* unfitted */\n",
       "  color: var(--sklearn-color-unfitted-level-1);\n",
       "  border: var(--sklearn-color-unfitted-level-1) 1pt solid;\n",
       "}\n",
       "\n",
       "#sk-container-id-2 a.estimator_doc_link.fitted {\n",
       "  /* fitted */\n",
       "  border: var(--sklearn-color-fitted-level-1) 1pt solid;\n",
       "  color: var(--sklearn-color-fitted-level-1);\n",
       "}\n",
       "\n",
       "/* On hover */\n",
       "#sk-container-id-2 a.estimator_doc_link:hover {\n",
       "  /* unfitted */\n",
       "  background-color: var(--sklearn-color-unfitted-level-3);\n",
       "  color: var(--sklearn-color-background);\n",
       "  text-decoration: none;\n",
       "}\n",
       "\n",
       "#sk-container-id-2 a.estimator_doc_link.fitted:hover {\n",
       "  /* fitted */\n",
       "  background-color: var(--sklearn-color-fitted-level-3);\n",
       "}\n",
       "</style><div id=\"sk-container-id-2\" class=\"sk-top-container\"><div class=\"sk-text-repr-fallback\"><pre>GridSearchCV(cv=5, estimator=KNeighborsClassifier(),\n",
       "             param_grid={&#x27;n_neighbors&#x27;: [1, 2, 3, 4, 5, 10, 15, 20, 25],\n",
       "                         &#x27;weights&#x27;: [&#x27;uniform&#x27;, &#x27;distance&#x27;]},\n",
       "             scoring=&#x27;f1&#x27;)</pre><b>In a Jupyter environment, please rerun this cell to show the HTML representation or trust the notebook. <br />On GitHub, the HTML representation is unable to render, please try loading this page with nbviewer.org.</b></div><div class=\"sk-container\" hidden><div class=\"sk-item sk-dashed-wrapped\"><div class=\"sk-label-container\"><div class=\"sk-label fitted sk-toggleable\"><input class=\"sk-toggleable__control sk-hidden--visually\" id=\"sk-estimator-id-4\" type=\"checkbox\" ><label for=\"sk-estimator-id-4\" class=\"sk-toggleable__label fitted sk-toggleable__label-arrow fitted\">&nbsp;&nbsp;GridSearchCV<a class=\"sk-estimator-doc-link fitted\" rel=\"noreferrer\" target=\"_blank\" href=\"https://scikit-learn.org/1.5/modules/generated/sklearn.model_selection.GridSearchCV.html\">?<span>Documentation for GridSearchCV</span></a><span class=\"sk-estimator-doc-link fitted\">i<span>Fitted</span></span></label><div class=\"sk-toggleable__content fitted\"><pre>GridSearchCV(cv=5, estimator=KNeighborsClassifier(),\n",
       "             param_grid={&#x27;n_neighbors&#x27;: [1, 2, 3, 4, 5, 10, 15, 20, 25],\n",
       "                         &#x27;weights&#x27;: [&#x27;uniform&#x27;, &#x27;distance&#x27;]},\n",
       "             scoring=&#x27;f1&#x27;)</pre></div> </div></div><div class=\"sk-parallel\"><div class=\"sk-parallel-item\"><div class=\"sk-item\"><div class=\"sk-label-container\"><div class=\"sk-label fitted sk-toggleable\"><input class=\"sk-toggleable__control sk-hidden--visually\" id=\"sk-estimator-id-5\" type=\"checkbox\" ><label for=\"sk-estimator-id-5\" class=\"sk-toggleable__label fitted sk-toggleable__label-arrow fitted\">best_estimator_: KNeighborsClassifier</label><div class=\"sk-toggleable__content fitted\"><pre>KNeighborsClassifier(n_neighbors=1)</pre></div> </div></div><div class=\"sk-serial\"><div class=\"sk-item\"><div class=\"sk-estimator fitted sk-toggleable\"><input class=\"sk-toggleable__control sk-hidden--visually\" id=\"sk-estimator-id-6\" type=\"checkbox\" ><label for=\"sk-estimator-id-6\" class=\"sk-toggleable__label fitted sk-toggleable__label-arrow fitted\">&nbsp;KNeighborsClassifier<a class=\"sk-estimator-doc-link fitted\" rel=\"noreferrer\" target=\"_blank\" href=\"https://scikit-learn.org/1.5/modules/generated/sklearn.neighbors.KNeighborsClassifier.html\">?<span>Documentation for KNeighborsClassifier</span></a></label><div class=\"sk-toggleable__content fitted\"><pre>KNeighborsClassifier(n_neighbors=1)</pre></div> </div></div></div></div></div></div></div></div></div>"
      ],
      "text/plain": [
       "GridSearchCV(cv=5, estimator=KNeighborsClassifier(),\n",
       "             param_grid={'n_neighbors': [1, 2, 3, 4, 5, 10, 15, 20, 25],\n",
       "                         'weights': ['uniform', 'distance']},\n",
       "             scoring='f1')"
      ]
     },
     "execution_count": 94,
     "metadata": {},
     "output_type": "execute_result"
    }
   ],
   "source": [
    "param_grid = {\n",
    "    'n_neighbors': [1,2,3,4,5,10,15,20,25],\n",
    "    'weights': ['uniform', 'distance']\n",
    "}\n",
    "\n",
    "search = GridSearchCV(estimator = KNeighborsClassifier(), param_grid = param_grid, scoring = 'f1', cv = 5)\n",
    "search.fit(X_train,y_train)"
   ]
  },
  {
   "cell_type": "code",
   "execution_count": 95,
   "id": "7e302679-f4c9-4f15-a446-ed68d0f44457",
   "metadata": {},
   "outputs": [
    {
     "data": {
      "text/plain": [
       "{'n_neighbors': 1, 'weights': 'uniform'}"
      ]
     },
     "execution_count": 95,
     "metadata": {},
     "output_type": "execute_result"
    }
   ],
   "source": [
    "search.best_params_"
   ]
  },
  {
   "cell_type": "code",
   "execution_count": 96,
   "id": "9ee40aab-782a-4e0d-a72e-bd0750744268",
   "metadata": {},
   "outputs": [],
   "source": [
    "y_pred_KNN2 = search.best_estimator_.predict(X_test)"
   ]
  },
  {
   "cell_type": "code",
   "execution_count": 97,
   "id": "b8867c07-70dd-415c-967f-96b7b42f4e79",
   "metadata": {},
   "outputs": [
    {
     "name": "stdout",
     "output_type": "stream",
     "text": [
      "              precision    recall  f1-score   support\n",
      "\n",
      "           0       0.26      0.30      0.28       259\n",
      "           1       0.49      0.52      0.51       440\n",
      "           2       0.52      0.45      0.48       441\n",
      "\n",
      "    accuracy                           0.44      1140\n",
      "   macro avg       0.43      0.42      0.42      1140\n",
      "weighted avg       0.45      0.44      0.45      1140\n",
      "\n"
     ]
    }
   ],
   "source": [
    "print(classification_report(y_test, y_pred_KNN2))"
   ]
  },
  {
   "cell_type": "code",
   "execution_count": 98,
   "id": "fba8d52f-bbf2-41f9-a8d5-963446edfad8",
   "metadata": {},
   "outputs": [
    {
     "data": {
      "image/png": "[encoded data removed]",
      "text/plain": [
       "<Figure size 640x480 with 1 Axes>"
      ]
     },
     "metadata": {},
     "output_type": "display_data"
    }
   ],
   "source": [
    "sns.heatmap(confusion_matrix(y_test, y_pred_KNN2), annot=True, fmt='d', cmap='Blues', cbar=False)\n",
    "plt.xlabel('Predicted', fontsize=12, fontweight='bold')\n",
    "plt.ylabel('Actual', fontsize=12, fontweight='bold')\n",
    "plt.title('Best Estimate KNeighbors')\n",
    "plt.show()"
   ]
  },
  {
   "cell_type": "markdown",
   "id": "6ee37965-e13f-4918-9091-c05a29ffef35",
   "metadata": {},
   "source": [
    "As we can see, when looking at the best accuracy between all variant of hyperparameters, we get the best model when `n_neighbors` is 15. When looking at the precision, recall, and fscore, we see that for class `0` (which is draw), our model is not the best. However, looking at those values when predicting winning or losing, our model does fairly well. "
   ]
  },
  {
   "cell_type": "markdown",
   "id": "5ef889b6-4060-45fd-a4d9-e392f5a1e64c",
   "metadata": {},
   "source": [
    "## Support Vector Machines"
   ]
  },
  {
   "cell_type": "markdown",
   "id": "fe5b6f2e-8b2f-444a-9385-dd78157b3009",
   "metadata": {},
   "source": [
    "Since we have few features (< 100 features) and more than 1,000 rows, we should used SVC with RBF "
   ]
  },
  {
   "cell_type": "code",
   "execution_count": 99,
   "id": "df1d0890-c1b1-4a7e-901a-667ddcabefcc",
   "metadata": {},
   "outputs": [
    {
     "name": "stdout",
     "output_type": "stream",
     "text": [
      "              precision    recall  f1-score   support\n",
      "\n",
      "           0       0.29      0.24      0.26       259\n",
      "           1       0.51      0.53      0.52       440\n",
      "           2       0.51      0.54      0.53       441\n",
      "\n",
      "    accuracy                           0.47      1140\n",
      "   macro avg       0.44      0.44      0.44      1140\n",
      "weighted avg       0.46      0.47      0.47      1140\n",
      "\n"
     ]
    }
   ],
   "source": [
    "rbfSVC = SVC(kernel='rbf', gamma=1.0, C=10.0)\n",
    "rbfSVC = rbfSVC.fit(X_train, y_train)\n",
    "y_pred_SVC = rbfSVC.predict(X_test)\n",
    "\n",
    "print(classification_report(y_test, y_pred_SVC))"
   ]
  },
  {
   "cell_type": "code",
   "execution_count": 100,
   "id": "6b363db6-2478-438a-9dd4-4102333e121c",
   "metadata": {},
   "outputs": [
    {
     "data": {
      "image/png": "[encoded data removed]",
      "text/plain": [
       "<Figure size 640x480 with 1 Axes>"
      ]
     },
     "metadata": {},
     "output_type": "display_data"
    }
   ],
   "source": [
    "sns.heatmap(confusion_matrix(y_test, y_pred_SVC), annot=True, fmt='d', cmap='Blues', cbar=False)\n",
    "plt.xlabel('Predicted', fontsize=12, fontweight='bold')\n",
    "plt.ylabel('Actual', fontsize=12, fontweight='bold')\n",
    "plt.title('Support Vector Machine')\n",
    "plt.show()"
   ]
  },
  {
   "cell_type": "markdown",
   "id": "a2375176-6773-4b2e-b73b-4a1b5abcf046",
   "metadata": {},
   "source": [
    "Tuning our parameters..."
   ]
  },
  {
   "cell_type": "code",
   "execution_count": 101,
   "id": "6cdc8445-f106-4d7e-8724-01a20e32e018",
   "metadata": {},
   "outputs": [
    {
     "data": {
      "text/plain": [
       "{'C': 0.1, 'kernel': 'rbf'}"
      ]
     },
     "execution_count": 101,
     "metadata": {},
     "output_type": "execute_result"
    }
   ],
   "source": [
    "param_grid = {\n",
    "    'C': [0.1,0.2,0.3,0.4,0.5,1,2,3,4,5,10,100],\n",
    "    'kernel': ['rbf','poly','sigmoid']\n",
    "}\n",
    "\n",
    "model = SVC()\n",
    "grid_search = GridSearchCV(estimator = model, \n",
    "                           param_grid = param_grid, \n",
    "                           scoring='f1',\n",
    "                           cv = 5)\n",
    "\n",
    "grid_search.fit(X_train, y_train)\n",
    "\n",
    "best_params = grid_search.best_params_\n",
    "best_params"
   ]
  },
  {
   "cell_type": "code",
   "execution_count": 102,
   "id": "7bcf9916-5d2f-4153-b17f-b890dfdc1dac",
   "metadata": {},
   "outputs": [
    {
     "name": "stdout",
     "output_type": "stream",
     "text": [
      "              precision    recall  f1-score   support\n",
      "\n",
      "           0       0.18      0.02      0.03       259\n",
      "           1       0.44      0.54      0.48       440\n",
      "           2       0.44      0.57      0.50       441\n",
      "\n",
      "    accuracy                           0.43      1140\n",
      "   macro avg       0.35      0.38      0.34      1140\n",
      "weighted avg       0.38      0.43      0.39      1140\n",
      "\n"
     ]
    }
   ],
   "source": [
    "y_pred_SVC2 = grid_search.best_estimator_.predict(X_test)\n",
    "print(classification_report(y_test, y_pred_SVC2))"
   ]
  },
  {
   "cell_type": "code",
   "execution_count": 103,
   "id": "261c2b91-55b6-4ebb-9e80-246ba230c268",
   "metadata": {},
   "outputs": [
    {
     "data": {
      "image/png": "[encoded data removed]",
      "text/plain": [
       "<Figure size 640x480 with 1 Axes>"
      ]
     },
     "metadata": {},
     "output_type": "display_data"
    }
   ],
   "source": [
    "sns.heatmap(confusion_matrix(y_test, y_pred_SVC2), annot=True, fmt='d', cmap='Blues', cbar=False)\n",
    "plt.xlabel('Predicted', fontsize=12, fontweight='bold')\n",
    "plt.ylabel('Actual', fontsize=12, fontweight='bold')\n",
    "plt.title('Best Estimate Support Vector Machine')\n",
    "plt.show()"
   ]
  },
  {
   "cell_type": "markdown",
   "id": "c8ce9e3f-cfd4-41ba-b74a-3618d61a9d9b",
   "metadata": {},
   "source": [
    "## Decision Trees"
   ]
  },
  {
   "cell_type": "markdown",
   "id": "6870a879-113a-467a-9ed2-e0fd9a432c78",
   "metadata": {},
   "source": [
    "In this section, we will run decision tree models (RandomForest, Extra Random Trees, and Bagging for a Decision Tree)"
   ]
  },
  {
   "cell_type": "markdown",
   "id": "16996463-0620-4575-9ff6-cd45b577d6c6",
   "metadata": {},
   "source": [
    "### RandomForest"
   ]
  },
  {
   "cell_type": "code",
   "execution_count": 104,
   "id": "c2f07f48-9477-47e8-814a-5de0ad9db8d8",
   "metadata": {},
   "outputs": [
    {
     "name": "stdout",
     "output_type": "stream",
     "text": [
      "              precision    recall  f1-score   support\n",
      "\n",
      "           0       0.31      0.29      0.30       259\n",
      "           1       0.64      0.68      0.66       440\n",
      "           2       0.68      0.66      0.67       441\n",
      "\n",
      "    accuracy                           0.58      1140\n",
      "   macro avg       0.54      0.54      0.54      1140\n",
      "weighted avg       0.58      0.58      0.58      1140\n",
      "\n"
     ]
    }
   ],
   "source": [
    "RF = RandomForestClassifier(n_estimators = 100, criterion = 'gini')\n",
    "RF = RF.fit(X_train, y_train)\n",
    "y_pred_RF = RF.predict(X_test)\n",
    "print(classification_report(y_test, y_pred_RF))"
   ]
  },
  {
   "cell_type": "code",
   "execution_count": 105,
   "id": "74ff455a-d2ed-4949-abe2-d4eaa9b3149b",
   "metadata": {},
   "outputs": [
    {
     "data": {
      "image/png": "[encoded data removed]",
      "text/plain": [
       "<Figure size 640x480 with 1 Axes>"
      ]
     },
     "metadata": {},
     "output_type": "display_data"
    }
   ],
   "source": [
    "sns.heatmap(confusion_matrix(y_test, y_pred_RF), annot=True, fmt='d', cmap='Blues', cbar=False)\n",
    "plt.xlabel('Predicted', fontsize=12, fontweight='bold')\n",
    "plt.ylabel('Actual', fontsize=12, fontweight='bold')\n",
    "plt.title('RandomForest')\n",
    "plt.show()"
   ]
  },
  {
   "cell_type": "code",
   "execution_count": 126,
   "id": "8f5e186a-fee1-43ee-949d-4705ef79300c",
   "metadata": {},
   "outputs": [
    {
     "data": {
      "text/plain": [
       "{'criterion': 'log_loss', 'max_depth': 10, 'n_estimators': 200}"
      ]
     },
     "execution_count": 126,
     "metadata": {},
     "output_type": "execute_result"
    }
   ],
   "source": [
    "param_grid = {\n",
    "    'n_estimators': [1,5,10,50,100,200],\n",
    "    'criterion': ['gini', 'entropy', 'log_loss'],\n",
    "    'max_depth': [1,2,3,4,5,10]\n",
    "}\n",
    "\n",
    "search = GridSearchCV(estimator=RandomForestClassifier(), param_grid = param_grid, scoring='accuracy', cv = 5)\n",
    "search.fit(X_train, y_train)\n",
    "search.best_params_"
   ]
  },
  {
   "cell_type": "code",
   "execution_count": 127,
   "id": "206fd109-5df7-4a48-ac3c-9c984364a04d",
   "metadata": {},
   "outputs": [
    {
     "name": "stdout",
     "output_type": "stream",
     "text": [
      "              precision    recall  f1-score   support\n",
      "\n",
      "           0       0.34      0.37      0.35       259\n",
      "           1       0.67      0.66      0.67       440\n",
      "           2       0.69      0.66      0.67       441\n",
      "\n",
      "    accuracy                           0.59      1140\n",
      "   macro avg       0.57      0.56      0.56      1140\n",
      "weighted avg       0.60      0.59      0.60      1140\n",
      "\n"
     ]
    }
   ],
   "source": [
    "y_pred_RF2 = search.best_estimator_.predict(X_test)\n",
    "print(classification_report(y_test, y_pred_RF2))"
   ]
  },
  {
   "cell_type": "code",
   "execution_count": 128,
   "id": "d443f799-3a08-4656-abdd-03c754f8d4ac",
   "metadata": {},
   "outputs": [
    {
     "data": {
      "image/png": "[encoded data removed]",
      "text/plain": [
       "<Figure size 640x480 with 1 Axes>"
      ]
     },
     "metadata": {},
     "output_type": "display_data"
    }
   ],
   "source": [
    "sns.heatmap(confusion_matrix(y_test, y_pred_RF2), annot=True, fmt='d', cmap='Blues', cbar=False)\n",
    "plt.xlabel('Predicted', fontsize=12, fontweight='bold')\n",
    "plt.ylabel('Actual', fontsize=12, fontweight='bold')\n",
    "plt.title('Best Estimate RandomForest')\n",
    "plt.show()"
   ]
  },
  {
   "cell_type": "markdown",
   "id": "87187c49-08cf-46ba-8e38-3674e532c803",
   "metadata": {},
   "source": [
    "### Extra Random Trees"
   ]
  },
  {
   "cell_type": "code",
   "execution_count": 124,
   "id": "32b1666b-d8fa-4aea-aa42-67d121cf77b2",
   "metadata": {},
   "outputs": [
    {
     "name": "stdout",
     "output_type": "stream",
     "text": [
      "              precision    recall  f1-score   support\n",
      "\n",
      "           0       0.29      0.26      0.28       259\n",
      "           1       0.63      0.66      0.65       440\n",
      "           2       0.65      0.66      0.66       441\n",
      "\n",
      "    accuracy                           0.57      1140\n",
      "   macro avg       0.53      0.53      0.53      1140\n",
      "weighted avg       0.56      0.57      0.57      1140\n",
      "\n"
     ]
    }
   ],
   "source": [
    "ETC = ExtraTreesClassifier(n_estimators = 100, criterion = 'gini')\n",
    "ETC = ETC.fit(X_train, y_train)\n",
    "y_pred_ETC = ETC.predict(X_test)\n",
    "print(classification_report(y_test, y_pred_ETC))"
   ]
  },
  {
   "cell_type": "code",
   "execution_count": 125,
   "id": "9c2095b0-50e7-4c38-ae43-35c312882805",
   "metadata": {},
   "outputs": [
    {
     "data": {
      "image/png": "[encoded data removed]",
      "text/plain": [
       "<Figure size 640x480 with 1 Axes>"
      ]
     },
     "metadata": {},
     "output_type": "display_data"
    }
   ],
   "source": [
    "sns.heatmap(confusion_matrix(y_test, y_pred_ETC), annot=True, fmt='d', cmap='Blues', cbar=False)\n",
    "plt.xlabel('Predicted', fontsize=12, fontweight='bold')\n",
    "plt.ylabel('Actual', fontsize=12, fontweight='bold')\n",
    "plt.title('Extra Random Trees')\n",
    "plt.show()"
   ]
  },
  {
   "cell_type": "code",
   "execution_count": 129,
   "id": "8dd1de67-e991-462e-b87f-d1bf5f374609",
   "metadata": {},
   "outputs": [
    {
     "data": {
      "text/plain": [
       "{'criterion': 'entropy', 'max_depth': 10, 'n_estimators': 200}"
      ]
     },
     "execution_count": 129,
     "metadata": {},
     "output_type": "execute_result"
    }
   ],
   "source": [
    "param_grid = {\n",
    "    'n_estimators': [1,5,10,50,100,200],\n",
    "    'criterion': ['gini', 'entropy', 'log_loss'],\n",
    "    'max_depth': [1,2,3,4,5,10]\n",
    "}\n",
    "search = GridSearchCV(estimator=ExtraTreesClassifier(), param_grid = param_grid, scoring='accuracy', cv = 5)\n",
    "search.fit(X_train, y_train)\n",
    "search.best_params_"
   ]
  },
  {
   "cell_type": "code",
   "execution_count": 130,
   "id": "72465979-ac32-430d-b17b-aac656f5bae7",
   "metadata": {},
   "outputs": [
    {
     "name": "stdout",
     "output_type": "stream",
     "text": [
      "              precision    recall  f1-score   support\n",
      "\n",
      "           0       0.33      0.35      0.34       259\n",
      "           1       0.67      0.67      0.67       440\n",
      "           2       0.68      0.64      0.66       441\n",
      "\n",
      "    accuracy                           0.59      1140\n",
      "   macro avg       0.56      0.55      0.56      1140\n",
      "weighted avg       0.59      0.59      0.59      1140\n",
      "\n"
     ]
    }
   ],
   "source": [
    "y_pred_ETC2 = search.best_estimator_.predict(X_test)\n",
    "print(classification_report(y_test,y_pred_ETC2))"
   ]
  },
  {
   "cell_type": "code",
   "execution_count": 131,
   "id": "380a1459-3654-4aa4-bf8d-2e15ef63b4d7",
   "metadata": {},
   "outputs": [
    {
     "data": {
      "image/png": "[encoded data removed]",
      "text/plain": [
       "<Figure size 640x480 with 1 Axes>"
      ]
     },
     "metadata": {},
     "output_type": "display_data"
    }
   ],
   "source": [
    "sns.heatmap(confusion_matrix(y_test, y_pred_ETC2), annot=True, fmt='d', cmap='Blues', cbar=False)\n",
    "plt.xlabel('Predicted', fontsize=12, fontweight='bold')\n",
    "plt.ylabel('Actual', fontsize=12, fontweight='bold')\n",
    "plt.title('Best Estimate Extra Random Trees')\n",
    "plt.show()"
   ]
  },
  {
   "cell_type": "markdown",
   "id": "349dcefd-68fa-4988-b375-907187e26c15",
   "metadata": {},
   "source": [
    "## Bagging"
   ]
  },
  {
   "cell_type": "code",
   "execution_count": 135,
   "id": "2c9046a8-3940-4a08-8681-79221bf6c246",
   "metadata": {},
   "outputs": [
    {
     "name": "stdout",
     "output_type": "stream",
     "text": [
      "              precision    recall  f1-score   support\n",
      "\n",
      "           0       0.30      0.33      0.31       259\n",
      "           1       0.61      0.63      0.62       440\n",
      "           2       0.67      0.61      0.64       441\n",
      "\n",
      "    accuracy                           0.56      1140\n",
      "   macro avg       0.53      0.52      0.53      1140\n",
      "weighted avg       0.56      0.56      0.56      1140\n",
      "\n"
     ]
    }
   ],
   "source": [
    "Bag = BaggingClassifier(estimator = DecisionTreeClassifier(), bootstrap = True)\n",
    "param_grid = {'n_estimators': [2*n+1 for n in range(20)],\n",
    "     'estimator__max_depth' : [2*n+1 for n in range(10) ] }\n",
    "\n",
    "search = GridSearchCV(estimator = Bag, param_grid = param_grid, cv = 5, scoring = 'accuracy')\n",
    "search.fit(X_train, y_train)\n",
    "\n",
    "y_pred_bag = search.best_estimator_.predict(X_test)\n",
    "print(classification_report(y_test, y_pred_bag))"
   ]
  },
  {
   "cell_type": "code",
   "execution_count": 136,
   "id": "00536e5a-2966-4f28-8cf6-e3874d3a159a",
   "metadata": {},
   "outputs": [
    {
     "data": {
      "image/png": "[encoded data removed]",
      "text/plain": [
       "<Figure size 640x480 with 1 Axes>"
      ]
     },
     "metadata": {},
     "output_type": "display_data"
    }
   ],
   "source": [
    "sns.heatmap(confusion_matrix(y_test, y_pred_bag), annot=True, fmt='d', cmap='Blues', cbar=False)\n",
    "plt.xlabel('Predicted', fontsize=12, fontweight='bold')\n",
    "plt.ylabel('Actual', fontsize=12, fontweight='bold')\n",
    "plt.title('Best Estimate Extra Random Trees')\n",
    "plt.show()"
   ]
  },
  {
   "cell_type": "markdown",
   "id": "7a2e7458-22a8-4b61-ba35-9b085bbf2a8e",
   "metadata": {},
   "source": [
    "## Boosting"
   ]
  },
  {
   "cell_type": "code",
   "execution_count": 138,
   "id": "438596ae-fb11-4352-895f-00d03ac4ea40",
   "metadata": {},
   "outputs": [
    {
     "name": "stdout",
     "output_type": "stream",
     "text": [
      "              precision    recall  f1-score   support\n",
      "\n",
      "           0       0.33      0.36      0.34       259\n",
      "           1       0.66      0.67      0.66       440\n",
      "           2       0.68      0.63      0.66       441\n",
      "\n",
      "    accuracy                           0.58      1140\n",
      "   macro avg       0.56      0.55      0.55      1140\n",
      "weighted avg       0.59      0.58      0.59      1140\n",
      "\n"
     ]
    }
   ],
   "source": [
    "gb = GradientBoostingClassifier()\n",
    "gb = gb.fit(X_train, y_train)\n",
    "y_pred_gb = gb.predict(X_test)\n",
    "\n",
    "print(classification_report(y_test,y_pred_gb))"
   ]
  },
  {
   "cell_type": "code",
   "execution_count": 140,
   "id": "2ccd3473-3597-475d-8ebc-135db9fd9b23",
   "metadata": {},
   "outputs": [
    {
     "data": {
      "image/png": "[encoded data removed]",
      "text/plain": [
       "<Figure size 640x480 with 1 Axes>"
      ]
     },
     "metadata": {},
     "output_type": "display_data"
    }
   ],
   "source": [
    "sns.heatmap(confusion_matrix(y_test, y_pred_gb), annot=True, fmt='d', cmap='Blues', cbar=False)\n",
    "plt.xlabel('Predicted', fontsize=12, fontweight='bold')\n",
    "plt.ylabel('Actual', fontsize=12, fontweight='bold')\n",
    "plt.title('Gradient Boosting')\n",
    "plt.show()"
   ]
  },
  {
   "cell_type": "code",
   "execution_count": 148,
   "id": "81eae7c1-9279-4ca8-89b5-20a5a4ed22b9",
   "metadata": {},
   "outputs": [
    {
     "data": {
      "text/html": [
       "<style>#sk-container-id-3 {\n",
       "  /* Definition of color scheme common for light and dark mode */\n",
       "  --sklearn-color-text: black;\n",
       "  --sklearn-color-line: gray;\n",
       "  /* Definition of color scheme for unfitted estimators */\n",
       "  --sklearn-color-unfitted-level-0: #fff5e6;\n",
       "  --sklearn-color-unfitted-level-1: #f6e4d2;\n",
       "  --sklearn-color-unfitted-level-2: #ffe0b3;\n",
       "  --sklearn-color-unfitted-level-3: chocolate;\n",
       "  /* Definition of color scheme for fitted estimators */\n",
       "  --sklearn-color-fitted-level-0: #f0f8ff;\n",
       "  --sklearn-color-fitted-level-1: #d4ebff;\n",
       "  --sklearn-color-fitted-level-2: #b3dbfd;\n",
       "  --sklearn-color-fitted-level-3: cornflowerblue;\n",
       "\n",
       "  /* Specific color for light theme */\n",
       "  --sklearn-color-text-on-default-background: var(--sg-text-color, var(--theme-code-foreground, var(--jp-content-font-color1, black)));\n",
       "  --sklearn-color-background: var(--sg-background-color, var(--theme-background, var(--jp-layout-color0, white)));\n",
       "  --sklearn-color-border-box: var(--sg-text-color, var(--theme-code-foreground, var(--jp-content-font-color1, black)));\n",
       "  --sklearn-color-icon: #696969;\n",
       "\n",
       "  @media (prefers-color-scheme: dark) {\n",
       "    /* Redefinition of color scheme for dark theme */\n",
       "    --sklearn-color-text-on-default-background: var(--sg-text-color, var(--theme-code-foreground, var(--jp-content-font-color1, white)));\n",
       "    --sklearn-color-background: var(--sg-background-color, var(--theme-background, var(--jp-layout-color0, #111)));\n",
       "    --sklearn-color-border-box: var(--sg-text-color, var(--theme-code-foreground, var(--jp-content-font-color1, white)));\n",
       "    --sklearn-color-icon: #878787;\n",
       "  }\n",
       "}\n",
       "\n",
       "#sk-container-id-3 {\n",
       "  color: var(--sklearn-color-text);\n",
       "}\n",
       "\n",
       "#sk-container-id-3 pre {\n",
       "  padding: 0;\n",
       "}\n",
       "\n",
       "#sk-container-id-3 input.sk-hidden--visually {\n",
       "  border: 0;\n",
       "  clip: rect(1px 1px 1px 1px);\n",
       "  clip: rect(1px, 1px, 1px, 1px);\n",
       "  height: 1px;\n",
       "  margin: -1px;\n",
       "  overflow: hidden;\n",
       "  padding: 0;\n",
       "  position: absolute;\n",
       "  width: 1px;\n",
       "}\n",
       "\n",
       "#sk-container-id-3 div.sk-dashed-wrapped {\n",
       "  border: 1px dashed var(--sklearn-color-line);\n",
       "  margin: 0 0.4em 0.5em 0.4em;\n",
       "  box-sizing: border-box;\n",
       "  padding-bottom: 0.4em;\n",
       "  background-color: var(--sklearn-color-background);\n",
       "}\n",
       "\n",
       "#sk-container-id-3 div.sk-container {\n",
       "  /* jupyter's `normalize.less` sets `[hidden] { display: none; }`\n",
       "     but bootstrap.min.css set `[hidden] { display: none !important; }`\n",
       "     so we also need the `!important` here to be able to override the\n",
       "     default hidden behavior on the sphinx rendered scikit-learn.org.\n",
       "     See: https://github.com/scikit-learn/scikit-learn/issues/21755 */\n",
       "  display: inline-block !important;\n",
       "  position: relative;\n",
       "}\n",
       "\n",
       "#sk-container-id-3 div.sk-text-repr-fallback {\n",
       "  display: none;\n",
       "}\n",
       "\n",
       "div.sk-parallel-item,\n",
       "div.sk-serial,\n",
       "div.sk-item {\n",
       "  /* draw centered vertical line to link estimators */\n",
       "  background-image: linear-gradient(var(--sklearn-color-text-on-default-background), var(--sklearn-color-text-on-default-background));\n",
       "  background-size: 2px 100%;\n",
       "  background-repeat: no-repeat;\n",
       "  background-position: center center;\n",
       "}\n",
       "\n",
       "/* Parallel-specific style estimator block */\n",
       "\n",
       "#sk-container-id-3 div.sk-parallel-item::after {\n",
       "  content: \"\";\n",
       "  width: 100%;\n",
       "  border-bottom: 2px solid var(--sklearn-color-text-on-default-background);\n",
       "  flex-grow: 1;\n",
       "}\n",
       "\n",
       "#sk-container-id-3 div.sk-parallel {\n",
       "  display: flex;\n",
       "  align-items: stretch;\n",
       "  justify-content: center;\n",
       "  background-color: var(--sklearn-color-background);\n",
       "  position: relative;\n",
       "}\n",
       "\n",
       "#sk-container-id-3 div.sk-parallel-item {\n",
       "  display: flex;\n",
       "  flex-direction: column;\n",
       "}\n",
       "\n",
       "#sk-container-id-3 div.sk-parallel-item:first-child::after {\n",
       "  align-self: flex-end;\n",
       "  width: 50%;\n",
       "}\n",
       "\n",
       "#sk-container-id-3 div.sk-parallel-item:last-child::after {\n",
       "  align-self: flex-start;\n",
       "  width: 50%;\n",
       "}\n",
       "\n",
       "#sk-container-id-3 div.sk-parallel-item:only-child::after {\n",
       "  width: 0;\n",
       "}\n",
       "\n",
       "/* Serial-specific style estimator block */\n",
       "\n",
       "#sk-container-id-3 div.sk-serial {\n",
       "  display: flex;\n",
       "  flex-direction: column;\n",
       "  align-items: center;\n",
       "  background-color: var(--sklearn-color-background);\n",
       "  padding-right: 1em;\n",
       "  padding-left: 1em;\n",
       "}\n",
       "\n",
       "\n",
       "/* Toggleable style: style used for estimator/Pipeline/ColumnTransformer box that is\n",
       "clickable and can be expanded/collapsed.\n",
       "- Pipeline and ColumnTransformer use this feature and define the default style\n",
       "- Estimators will overwrite some part of the style using the `sk-estimator` class\n",
       "*/\n",
       "\n",
       "/* Pipeline and ColumnTransformer style (default) */\n",
       "\n",
       "#sk-container-id-3 div.sk-toggleable {\n",
       "  /* Default theme specific background. It is overwritten whether we have a\n",
       "  specific estimator or a Pipeline/ColumnTransformer */\n",
       "  background-color: var(--sklearn-color-background);\n",
       "}\n",
       "\n",
       "/* Toggleable label */\n",
       "#sk-container-id-3 label.sk-toggleable__label {\n",
       "  cursor: pointer;\n",
       "  display: block;\n",
       "  width: 100%;\n",
       "  margin-bottom: 0;\n",
       "  padding: 0.5em;\n",
       "  box-sizing: border-box;\n",
       "  text-align: center;\n",
       "}\n",
       "\n",
       "#sk-container-id-3 label.sk-toggleable__label-arrow:before {\n",
       "  /* Arrow on the left of the label */\n",
       "  content: \"▸\";\n",
       "  float: left;\n",
       "  margin-right: 0.25em;\n",
       "  color: var(--sklearn-color-icon);\n",
       "}\n",
       "\n",
       "#sk-container-id-3 label.sk-toggleable__label-arrow:hover:before {\n",
       "  color: var(--sklearn-color-text);\n",
       "}\n",
       "\n",
       "/* Toggleable content - dropdown */\n",
       "\n",
       "#sk-container-id-3 div.sk-toggleable__content {\n",
       "  max-height: 0;\n",
       "  max-width: 0;\n",
       "  overflow: hidden;\n",
       "  text-align: left;\n",
       "  /* unfitted */\n",
       "  background-color: var(--sklearn-color-unfitted-level-0);\n",
       "}\n",
       "\n",
       "#sk-container-id-3 div.sk-toggleable__content.fitted {\n",
       "  /* fitted */\n",
       "  background-color: var(--sklearn-color-fitted-level-0);\n",
       "}\n",
       "\n",
       "#sk-container-id-3 div.sk-toggleable__content pre {\n",
       "  margin: 0.2em;\n",
       "  border-radius: 0.25em;\n",
       "  color: var(--sklearn-color-text);\n",
       "  /* unfitted */\n",
       "  background-color: var(--sklearn-color-unfitted-level-0);\n",
       "}\n",
       "\n",
       "#sk-container-id-3 div.sk-toggleable__content.fitted pre {\n",
       "  /* unfitted */\n",
       "  background-color: var(--sklearn-color-fitted-level-0);\n",
       "}\n",
       "\n",
       "#sk-container-id-3 input.sk-toggleable__control:checked~div.sk-toggleable__content {\n",
       "  /* Expand drop-down */\n",
       "  max-height: 200px;\n",
       "  max-width: 100%;\n",
       "  overflow: auto;\n",
       "}\n",
       "\n",
       "#sk-container-id-3 input.sk-toggleable__control:checked~label.sk-toggleable__label-arrow:before {\n",
       "  content: \"▾\";\n",
       "}\n",
       "\n",
       "/* Pipeline/ColumnTransformer-specific style */\n",
       "\n",
       "#sk-container-id-3 div.sk-label input.sk-toggleable__control:checked~label.sk-toggleable__label {\n",
       "  color: var(--sklearn-color-text);\n",
       "  background-color: var(--sklearn-color-unfitted-level-2);\n",
       "}\n",
       "\n",
       "#sk-container-id-3 div.sk-label.fitted input.sk-toggleable__control:checked~label.sk-toggleable__label {\n",
       "  background-color: var(--sklearn-color-fitted-level-2);\n",
       "}\n",
       "\n",
       "/* Estimator-specific style */\n",
       "\n",
       "/* Colorize estimator box */\n",
       "#sk-container-id-3 div.sk-estimator input.sk-toggleable__control:checked~label.sk-toggleable__label {\n",
       "  /* unfitted */\n",
       "  background-color: var(--sklearn-color-unfitted-level-2);\n",
       "}\n",
       "\n",
       "#sk-container-id-3 div.sk-estimator.fitted input.sk-toggleable__control:checked~label.sk-toggleable__label {\n",
       "  /* fitted */\n",
       "  background-color: var(--sklearn-color-fitted-level-2);\n",
       "}\n",
       "\n",
       "#sk-container-id-3 div.sk-label label.sk-toggleable__label,\n",
       "#sk-container-id-3 div.sk-label label {\n",
       "  /* The background is the default theme color */\n",
       "  color: var(--sklearn-color-text-on-default-background);\n",
       "}\n",
       "\n",
       "/* On hover, darken the color of the background */\n",
       "#sk-container-id-3 div.sk-label:hover label.sk-toggleable__label {\n",
       "  color: var(--sklearn-color-text);\n",
       "  background-color: var(--sklearn-color-unfitted-level-2);\n",
       "}\n",
       "\n",
       "/* Label box, darken color on hover, fitted */\n",
       "#sk-container-id-3 div.sk-label.fitted:hover label.sk-toggleable__label.fitted {\n",
       "  color: var(--sklearn-color-text);\n",
       "  background-color: var(--sklearn-color-fitted-level-2);\n",
       "}\n",
       "\n",
       "/* Estimator label */\n",
       "\n",
       "#sk-container-id-3 div.sk-label label {\n",
       "  font-family: monospace;\n",
       "  font-weight: bold;\n",
       "  display: inline-block;\n",
       "  line-height: 1.2em;\n",
       "}\n",
       "\n",
       "#sk-container-id-3 div.sk-label-container {\n",
       "  text-align: center;\n",
       "}\n",
       "\n",
       "/* Estimator-specific */\n",
       "#sk-container-id-3 div.sk-estimator {\n",
       "  font-family: monospace;\n",
       "  border: 1px dotted var(--sklearn-color-border-box);\n",
       "  border-radius: 0.25em;\n",
       "  box-sizing: border-box;\n",
       "  margin-bottom: 0.5em;\n",
       "  /* unfitted */\n",
       "  background-color: var(--sklearn-color-unfitted-level-0);\n",
       "}\n",
       "\n",
       "#sk-container-id-3 div.sk-estimator.fitted {\n",
       "  /* fitted */\n",
       "  background-color: var(--sklearn-color-fitted-level-0);\n",
       "}\n",
       "\n",
       "/* on hover */\n",
       "#sk-container-id-3 div.sk-estimator:hover {\n",
       "  /* unfitted */\n",
       "  background-color: var(--sklearn-color-unfitted-level-2);\n",
       "}\n",
       "\n",
       "#sk-container-id-3 div.sk-estimator.fitted:hover {\n",
       "  /* fitted */\n",
       "  background-color: var(--sklearn-color-fitted-level-2);\n",
       "}\n",
       "\n",
       "/* Specification for estimator info (e.g. \"i\" and \"?\") */\n",
       "\n",
       "/* Common style for \"i\" and \"?\" */\n",
       "\n",
       ".sk-estimator-doc-link,\n",
       "a:link.sk-estimator-doc-link,\n",
       "a:visited.sk-estimator-doc-link {\n",
       "  float: right;\n",
       "  font-size: smaller;\n",
       "  line-height: 1em;\n",
       "  font-family: monospace;\n",
       "  background-color: var(--sklearn-color-background);\n",
       "  border-radius: 1em;\n",
       "  height: 1em;\n",
       "  width: 1em;\n",
       "  text-decoration: none !important;\n",
       "  margin-left: 1ex;\n",
       "  /* unfitted */\n",
       "  border: var(--sklearn-color-unfitted-level-1) 1pt solid;\n",
       "  color: var(--sklearn-color-unfitted-level-1);\n",
       "}\n",
       "\n",
       ".sk-estimator-doc-link.fitted,\n",
       "a:link.sk-estimator-doc-link.fitted,\n",
       "a:visited.sk-estimator-doc-link.fitted {\n",
       "  /* fitted */\n",
       "  border: var(--sklearn-color-fitted-level-1) 1pt solid;\n",
       "  color: var(--sklearn-color-fitted-level-1);\n",
       "}\n",
       "\n",
       "/* On hover */\n",
       "div.sk-estimator:hover .sk-estimator-doc-link:hover,\n",
       ".sk-estimator-doc-link:hover,\n",
       "div.sk-label-container:hover .sk-estimator-doc-link:hover,\n",
       ".sk-estimator-doc-link:hover {\n",
       "  /* unfitted */\n",
       "  background-color: var(--sklearn-color-unfitted-level-3);\n",
       "  color: var(--sklearn-color-background);\n",
       "  text-decoration: none;\n",
       "}\n",
       "\n",
       "div.sk-estimator.fitted:hover .sk-estimator-doc-link.fitted:hover,\n",
       ".sk-estimator-doc-link.fitted:hover,\n",
       "div.sk-label-container:hover .sk-estimator-doc-link.fitted:hover,\n",
       ".sk-estimator-doc-link.fitted:hover {\n",
       "  /* fitted */\n",
       "  background-color: var(--sklearn-color-fitted-level-3);\n",
       "  color: var(--sklearn-color-background);\n",
       "  text-decoration: none;\n",
       "}\n",
       "\n",
       "/* Span, style for the box shown on hovering the info icon */\n",
       ".sk-estimator-doc-link span {\n",
       "  display: none;\n",
       "  z-index: 9999;\n",
       "  position: relative;\n",
       "  font-weight: normal;\n",
       "  right: .2ex;\n",
       "  padding: .5ex;\n",
       "  margin: .5ex;\n",
       "  width: min-content;\n",
       "  min-width: 20ex;\n",
       "  max-width: 50ex;\n",
       "  color: var(--sklearn-color-text);\n",
       "  box-shadow: 2pt 2pt 4pt #999;\n",
       "  /* unfitted */\n",
       "  background: var(--sklearn-color-unfitted-level-0);\n",
       "  border: .5pt solid var(--sklearn-color-unfitted-level-3);\n",
       "}\n",
       "\n",
       ".sk-estimator-doc-link.fitted span {\n",
       "  /* fitted */\n",
       "  background: var(--sklearn-color-fitted-level-0);\n",
       "  border: var(--sklearn-color-fitted-level-3);\n",
       "}\n",
       "\n",
       ".sk-estimator-doc-link:hover span {\n",
       "  display: block;\n",
       "}\n",
       "\n",
       "/* \"?\"-specific style due to the `<a>` HTML tag */\n",
       "\n",
       "#sk-container-id-3 a.estimator_doc_link {\n",
       "  float: right;\n",
       "  font-size: 1rem;\n",
       "  line-height: 1em;\n",
       "  font-family: monospace;\n",
       "  background-color: var(--sklearn-color-background);\n",
       "  border-radius: 1rem;\n",
       "  height: 1rem;\n",
       "  width: 1rem;\n",
       "  text-decoration: none;\n",
       "  /* unfitted */\n",
       "  color: var(--sklearn-color-unfitted-level-1);\n",
       "  border: var(--sklearn-color-unfitted-level-1) 1pt solid;\n",
       "}\n",
       "\n",
       "#sk-container-id-3 a.estimator_doc_link.fitted {\n",
       "  /* fitted */\n",
       "  border: var(--sklearn-color-fitted-level-1) 1pt solid;\n",
       "  color: var(--sklearn-color-fitted-level-1);\n",
       "}\n",
       "\n",
       "/* On hover */\n",
       "#sk-container-id-3 a.estimator_doc_link:hover {\n",
       "  /* unfitted */\n",
       "  background-color: var(--sklearn-color-unfitted-level-3);\n",
       "  color: var(--sklearn-color-background);\n",
       "  text-decoration: none;\n",
       "}\n",
       "\n",
       "#sk-container-id-3 a.estimator_doc_link.fitted:hover {\n",
       "  /* fitted */\n",
       "  background-color: var(--sklearn-color-fitted-level-3);\n",
       "}\n",
       "</style><div id=\"sk-container-id-3\" class=\"sk-top-container\"><div class=\"sk-text-repr-fallback\"><pre>GridSearchCV(cv=5, estimator=GradientBoostingClassifier(),\n",
       "             param_grid={&#x27;learning_rate&#x27;: [0.1, 0.15, 0.2, 0.25, 0.3],\n",
       "                         &#x27;loss&#x27;: [&#x27;log_loss&#x27;, &#x27;exponential&#x27;],\n",
       "                         &#x27;n_estimators&#x27;: [10, 50, 100, 200, 300, 400, 500]},\n",
       "             scoring=&#x27;f1&#x27;)</pre><b>In a Jupyter environment, please rerun this cell to show the HTML representation or trust the notebook. <br />On GitHub, the HTML representation is unable to render, please try loading this page with nbviewer.org.</b></div><div class=\"sk-container\" hidden><div class=\"sk-item sk-dashed-wrapped\"><div class=\"sk-label-container\"><div class=\"sk-label fitted sk-toggleable\"><input class=\"sk-toggleable__control sk-hidden--visually\" id=\"sk-estimator-id-7\" type=\"checkbox\" ><label for=\"sk-estimator-id-7\" class=\"sk-toggleable__label fitted sk-toggleable__label-arrow fitted\">&nbsp;&nbsp;GridSearchCV<a class=\"sk-estimator-doc-link fitted\" rel=\"noreferrer\" target=\"_blank\" href=\"https://scikit-learn.org/1.5/modules/generated/sklearn.model_selection.GridSearchCV.html\">?<span>Documentation for GridSearchCV</span></a><span class=\"sk-estimator-doc-link fitted\">i<span>Fitted</span></span></label><div class=\"sk-toggleable__content fitted\"><pre>GridSearchCV(cv=5, estimator=GradientBoostingClassifier(),\n",
       "             param_grid={&#x27;learning_rate&#x27;: [0.1, 0.15, 0.2, 0.25, 0.3],\n",
       "                         &#x27;loss&#x27;: [&#x27;log_loss&#x27;, &#x27;exponential&#x27;],\n",
       "                         &#x27;n_estimators&#x27;: [10, 50, 100, 200, 300, 400, 500]},\n",
       "             scoring=&#x27;f1&#x27;)</pre></div> </div></div><div class=\"sk-parallel\"><div class=\"sk-parallel-item\"><div class=\"sk-item\"><div class=\"sk-label-container\"><div class=\"sk-label fitted sk-toggleable\"><input class=\"sk-toggleable__control sk-hidden--visually\" id=\"sk-estimator-id-8\" type=\"checkbox\" ><label for=\"sk-estimator-id-8\" class=\"sk-toggleable__label fitted sk-toggleable__label-arrow fitted\">best_estimator_: GradientBoostingClassifier</label><div class=\"sk-toggleable__content fitted\"><pre>GradientBoostingClassifier(n_estimators=10)</pre></div> </div></div><div class=\"sk-serial\"><div class=\"sk-item\"><div class=\"sk-estimator fitted sk-toggleable\"><input class=\"sk-toggleable__control sk-hidden--visually\" id=\"sk-estimator-id-9\" type=\"checkbox\" ><label for=\"sk-estimator-id-9\" class=\"sk-toggleable__label fitted sk-toggleable__label-arrow fitted\">&nbsp;GradientBoostingClassifier<a class=\"sk-estimator-doc-link fitted\" rel=\"noreferrer\" target=\"_blank\" href=\"https://scikit-learn.org/1.5/modules/generated/sklearn.ensemble.GradientBoostingClassifier.html\">?<span>Documentation for GradientBoostingClassifier</span></a></label><div class=\"sk-toggleable__content fitted\"><pre>GradientBoostingClassifier(n_estimators=10)</pre></div> </div></div></div></div></div></div></div></div></div>"
      ],
      "text/plain": [
       "GridSearchCV(cv=5, estimator=GradientBoostingClassifier(),\n",
       "             param_grid={'learning_rate': [0.1, 0.15, 0.2, 0.25, 0.3],\n",
       "                         'loss': ['log_loss', 'exponential'],\n",
       "                         'n_estimators': [10, 50, 100, 200, 300, 400, 500]},\n",
       "             scoring='f1')"
      ]
     },
     "execution_count": 148,
     "metadata": {},
     "output_type": "execute_result"
    }
   ],
   "source": [
    "param_grid = {\n",
    "    'learning_rate': [0.1,0.15,0.2,0.25,0.3],\n",
    "    'loss': ['log_loss', 'exponential'],\n",
    "    'n_estimators': [10,50,100,200,300,400,500]\n",
    "}\n",
    "\n",
    "search = GridSearchCV(estimator = GradientBoostingClassifier(), param_grid = param_grid, scoring = 'f1', cv = 5)\n",
    "search.fit(X_train, y_train)\n"
   ]
  },
  {
   "cell_type": "code",
   "execution_count": 149,
   "id": "035bcf78-3af0-4101-8fc6-4392c68c1179",
   "metadata": {},
   "outputs": [
    {
     "data": {
      "text/plain": [
       "{'learning_rate': 0.1, 'loss': 'log_loss', 'n_estimators': 10}"
      ]
     },
     "execution_count": 149,
     "metadata": {},
     "output_type": "execute_result"
    }
   ],
   "source": [
    "search.best_params_"
   ]
  },
  {
   "cell_type": "code",
   "execution_count": 150,
   "id": "61b650b8-3d6c-4cea-8f30-87821909ae15",
   "metadata": {},
   "outputs": [
    {
     "name": "stdout",
     "output_type": "stream",
     "text": [
      "              precision    recall  f1-score   support\n",
      "\n",
      "           0       0.33      0.47      0.39       259\n",
      "           1       0.67      0.61      0.64       440\n",
      "           2       0.71      0.59      0.64       441\n",
      "\n",
      "    accuracy                           0.57      1140\n",
      "   macro avg       0.57      0.56      0.56      1140\n",
      "weighted avg       0.61      0.57      0.58      1140\n",
      "\n"
     ]
    }
   ],
   "source": [
    "y_pred_gb2 = search.best_estimator_.predict(X_test)\n",
    "print(classification_report(y_test, y_pred_gb2))"
   ]
  },
  {
   "cell_type": "code",
   "execution_count": 151,
   "id": "f573716f-b649-4a89-b72e-d2d1a62027ff",
   "metadata": {},
   "outputs": [
    {
     "data": {
      "image/png": "[encoded data removed]",
      "text/plain": [
       "<Figure size 640x480 with 1 Axes>"
      ]
     },
     "metadata": {},
     "output_type": "display_data"
    }
   ],
   "source": [
    "sns.heatmap(confusion_matrix(y_test, y_pred_bag), annot=True, fmt='d', cmap='Blues', cbar=False)\n",
    "plt.xlabel('Predicted', fontsize=12, fontweight='bold')\n",
    "plt.ylabel('Actual', fontsize=12, fontweight='bold')\n",
    "plt.title('Best Estimate Gradient Boosting')\n",
    "plt.show()"
   ]
  },
  {
   "cell_type": "markdown",
   "id": "a49e638e-0040-4b98-a3f0-f40e399489fe",
   "metadata": {},
   "source": [
    "----"
   ]
  },
  {
   "cell_type": "markdown",
   "id": "d556eb7d-1fb9-45aa-8fb9-fdd9c5eb95de",
   "metadata": {},
   "source": [
    "# Results"
   ]
  },
  {
   "cell_type": "code",
   "execution_count": 159,
   "id": "1db47847-8ada-472a-b22c-c7c4a0ed6e47",
   "metadata": {},
   "outputs": [
    {
     "name": "stdout",
     "output_type": "stream",
     "text": [
      "Logistic Regression:\n",
      "               precision    recall  f1-score   support\n",
      "\n",
      "           0       0.31      0.29      0.30       259\n",
      "           1       0.65      0.67      0.66       440\n",
      "           2       0.67      0.68      0.67       441\n",
      "\n",
      "    accuracy                           0.59      1140\n",
      "   macro avg       0.54      0.55      0.54      1140\n",
      "weighted avg       0.58      0.59      0.58      1140\n",
      "\n",
      "\n",
      "KNearest Neighbors:\n",
      "               precision    recall  f1-score   support\n",
      "\n",
      "           0       0.26      0.30      0.28       259\n",
      "           1       0.49      0.52      0.51       440\n",
      "           2       0.52      0.45      0.48       441\n",
      "\n",
      "    accuracy                           0.44      1140\n",
      "   macro avg       0.43      0.42      0.42      1140\n",
      "weighted avg       0.45      0.44      0.45      1140\n",
      "\n",
      "\n",
      "Support Vector Machines:\n",
      "               precision    recall  f1-score   support\n",
      "\n",
      "           0       0.18      0.02      0.03       259\n",
      "           1       0.44      0.54      0.48       440\n",
      "           2       0.44      0.57      0.50       441\n",
      "\n",
      "    accuracy                           0.43      1140\n",
      "   macro avg       0.35      0.38      0.34      1140\n",
      "weighted avg       0.38      0.43      0.39      1140\n",
      "\n",
      "\n",
      "Random Forest:\n",
      "               precision    recall  f1-score   support\n",
      "\n",
      "           0       0.34      0.37      0.35       259\n",
      "           1       0.67      0.66      0.67       440\n",
      "           2       0.69      0.66      0.67       441\n",
      "\n",
      "    accuracy                           0.59      1140\n",
      "   macro avg       0.57      0.56      0.56      1140\n",
      "weighted avg       0.60      0.59      0.60      1140\n",
      "\n",
      "\n",
      "Extra Random Trees:\n",
      "               precision    recall  f1-score   support\n",
      "\n",
      "           0       0.33      0.35      0.34       259\n",
      "           1       0.67      0.67      0.67       440\n",
      "           2       0.68      0.64      0.66       441\n",
      "\n",
      "    accuracy                           0.59      1140\n",
      "   macro avg       0.56      0.55      0.56      1140\n",
      "weighted avg       0.59      0.59      0.59      1140\n",
      "\n",
      "\n",
      "Bagging:\n",
      "               precision    recall  f1-score   support\n",
      "\n",
      "           0       0.30      0.33      0.31       259\n",
      "           1       0.61      0.63      0.62       440\n",
      "           2       0.67      0.61      0.64       441\n",
      "\n",
      "    accuracy                           0.56      1140\n",
      "   macro avg       0.53      0.52      0.53      1140\n",
      "weighted avg       0.56      0.56      0.56      1140\n",
      "\n",
      "\n",
      "Gradient Boosting:\n",
      "               precision    recall  f1-score   support\n",
      "\n",
      "           0       0.33      0.47      0.39       259\n",
      "           1       0.67      0.61      0.64       440\n",
      "           2       0.71      0.59      0.64       441\n",
      "\n",
      "    accuracy                           0.57      1140\n",
      "   macro avg       0.57      0.56      0.56      1140\n",
      "weighted avg       0.61      0.57      0.58      1140\n",
      "\n"
     ]
    }
   ],
   "source": [
    "print('Logistic Regression:\\n',classification_report(y_test, y_pred_lr2))\n",
    "print('\\nKNearest Neighbors:\\n',classification_report(y_test, y_pred_KNN2))\n",
    "print('\\nSupport Vector Machines:\\n',classification_report(y_test, y_pred_SVC2))\n",
    "print('\\nRandom Forest:\\n',classification_report(y_test, y_pred_RF2))\n",
    "print('\\nExtra Random Trees:\\n',classification_report(y_test, y_pred_ETC2))\n",
    "print('\\nBagging:\\n',classification_report(y_test, y_pred_bag))\n",
    "print('\\nGradient Boosting:\\n',classification_report(y_test, y_pred_gb2))"
   ]
  },
  {
   "cell_type": "markdown",
   "id": "01125606-26d8-48dc-82a9-2a75e43e9fa2",
   "metadata": {},
   "source": [
    "From what we can see, the best accuracy show in our `LogisticRegression`, `Random Forest`, `Extra Random Tree` models. However, accuracy is not the only metric that we should look at. Regarding our F1-score and recall, `Random Forest` did the best. For precision, `GradientBoosting` performed the best. If I were to choose one model to use, it would be Random Forest, as it performed the best is majority of the error metrics, and is faster than other models.\n",
    "\n",
    "A common trend in all of the models was that predicting a draw is harder than predicting a win or a loss. Also, it can be noted that predicting the outcome of a game is a hard task in general.\n",
    "\n",
    "For improving our model, we could consider adding in more statistics of matches. Also, we could take a look at how long it has been since the teams last game, if the team is using a different formation, if the captain is different, etc. Another approach of improving our model would be to first consider only Win or Loss, then we could try and predict draw. For precision, recall, and f1-score, the draw class never reached over 0.5, which is not good for a model. Trying to optimize winning and losing would be better for prediction."
   ]
  },
  {
   "cell_type": "markdown",
   "id": "da2d84c8-22c3-4856-a3a4-40393e65242e",
   "metadata": {},
   "source": [
    "---"
   ]
  },
  {
   "cell_type": "code",
   "execution_count": null,
   "id": "81597f68-f83f-4a57-aeb6-86803f873c18",
   "metadata": {},
   "outputs": [],
   "source": []
  }
 ],
 "metadata": {
  "kernelspec": {
   "display_name": "Python 3 (ipykernel)",
   "language": "python",
   "name": "python3"
  },
  "language_info": {
   "codemirror_mode": {
    "name": "ipython",
    "version": 3
   },
   "file_extension": ".py",
   "mimetype": "text/x-python",
   "name": "python",
   "nbconvert_exporter": "python",
   "pygments_lexer": "ipython3",
   "version": "3.12.3"
  }
 },
 "nbformat": 4,
 "nbformat_minor": 5
}

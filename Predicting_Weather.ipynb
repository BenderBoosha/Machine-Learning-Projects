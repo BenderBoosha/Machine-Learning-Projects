{
 "cells": [
  {
   "cell_type": "markdown",
   "metadata": {},
   "source": [
    "# Course 2: Project on Predicting Weather"
   ]
  },
  {
   "cell_type": "markdown",
   "metadata": {
    "jp-MarkdownHeadingCollapsed": true
   },
   "source": [
    "## Import the required libraries\n"
   ]
  },
  {
   "cell_type": "code",
   "execution_count": 411,
   "metadata": {},
   "outputs": [],
   "source": [
    "import pandas as pd\n",
    "import numpy as np\n",
    "import matplotlib.pyplot as plt\n",
    "import seaborn as sns"
   ]
  },
  {
   "cell_type": "markdown",
   "metadata": {
    "jp-MarkdownHeadingCollapsed": true
   },
   "source": [
    "## Importing the Dataset\n"
   ]
  },
  {
   "cell_type": "code",
   "execution_count": 412,
   "metadata": {},
   "outputs": [
    {
     "data": {
      "text/html": [
       "<div>\n",
       "<style scoped>\n",
       "    .dataframe tbody tr th:only-of-type {\n",
       "        vertical-align: middle;\n",
       "    }\n",
       "\n",
       "    .dataframe tbody tr th {\n",
       "        vertical-align: top;\n",
       "    }\n",
       "\n",
       "    .dataframe thead th {\n",
       "        text-align: right;\n",
       "    }\n",
       "</style>\n",
       "<table border=\"1\" class=\"dataframe\">\n",
       "  <thead>\n",
       "    <tr style=\"text-align: right;\">\n",
       "      <th></th>\n",
       "      <th>STA</th>\n",
       "      <th>Date</th>\n",
       "      <th>Precip</th>\n",
       "      <th>WindGustSpd</th>\n",
       "      <th>MaxTemp</th>\n",
       "      <th>MinTemp</th>\n",
       "      <th>MeanTemp</th>\n",
       "      <th>Snowfall</th>\n",
       "      <th>PoorWeather</th>\n",
       "      <th>YR</th>\n",
       "      <th>...</th>\n",
       "      <th>FB</th>\n",
       "      <th>FTI</th>\n",
       "      <th>ITH</th>\n",
       "      <th>PGT</th>\n",
       "      <th>TSHDSBRSGF</th>\n",
       "      <th>SD3</th>\n",
       "      <th>RHX</th>\n",
       "      <th>RHN</th>\n",
       "      <th>RVG</th>\n",
       "      <th>WTE</th>\n",
       "    </tr>\n",
       "  </thead>\n",
       "  <tbody>\n",
       "    <tr>\n",
       "      <th>0</th>\n",
       "      <td>10001</td>\n",
       "      <td>1942-7-1</td>\n",
       "      <td>1.016</td>\n",
       "      <td>NaN</td>\n",
       "      <td>25.555556</td>\n",
       "      <td>22.222222</td>\n",
       "      <td>23.888889</td>\n",
       "      <td>0.0</td>\n",
       "      <td>NaN</td>\n",
       "      <td>42</td>\n",
       "      <td>...</td>\n",
       "      <td>NaN</td>\n",
       "      <td>NaN</td>\n",
       "      <td>NaN</td>\n",
       "      <td>NaN</td>\n",
       "      <td>NaN</td>\n",
       "      <td>NaN</td>\n",
       "      <td>NaN</td>\n",
       "      <td>NaN</td>\n",
       "      <td>NaN</td>\n",
       "      <td>NaN</td>\n",
       "    </tr>\n",
       "    <tr>\n",
       "      <th>1</th>\n",
       "      <td>10001</td>\n",
       "      <td>1942-7-2</td>\n",
       "      <td>0</td>\n",
       "      <td>NaN</td>\n",
       "      <td>28.888889</td>\n",
       "      <td>21.666667</td>\n",
       "      <td>25.555556</td>\n",
       "      <td>0.0</td>\n",
       "      <td>NaN</td>\n",
       "      <td>42</td>\n",
       "      <td>...</td>\n",
       "      <td>NaN</td>\n",
       "      <td>NaN</td>\n",
       "      <td>NaN</td>\n",
       "      <td>NaN</td>\n",
       "      <td>NaN</td>\n",
       "      <td>NaN</td>\n",
       "      <td>NaN</td>\n",
       "      <td>NaN</td>\n",
       "      <td>NaN</td>\n",
       "      <td>NaN</td>\n",
       "    </tr>\n",
       "    <tr>\n",
       "      <th>2</th>\n",
       "      <td>10001</td>\n",
       "      <td>1942-7-3</td>\n",
       "      <td>2.54</td>\n",
       "      <td>NaN</td>\n",
       "      <td>26.111111</td>\n",
       "      <td>22.222222</td>\n",
       "      <td>24.444444</td>\n",
       "      <td>0.0</td>\n",
       "      <td>NaN</td>\n",
       "      <td>42</td>\n",
       "      <td>...</td>\n",
       "      <td>NaN</td>\n",
       "      <td>NaN</td>\n",
       "      <td>NaN</td>\n",
       "      <td>NaN</td>\n",
       "      <td>NaN</td>\n",
       "      <td>NaN</td>\n",
       "      <td>NaN</td>\n",
       "      <td>NaN</td>\n",
       "      <td>NaN</td>\n",
       "      <td>NaN</td>\n",
       "    </tr>\n",
       "    <tr>\n",
       "      <th>3</th>\n",
       "      <td>10001</td>\n",
       "      <td>1942-7-4</td>\n",
       "      <td>2.54</td>\n",
       "      <td>NaN</td>\n",
       "      <td>26.666667</td>\n",
       "      <td>22.222222</td>\n",
       "      <td>24.444444</td>\n",
       "      <td>0.0</td>\n",
       "      <td>NaN</td>\n",
       "      <td>42</td>\n",
       "      <td>...</td>\n",
       "      <td>NaN</td>\n",
       "      <td>NaN</td>\n",
       "      <td>NaN</td>\n",
       "      <td>NaN</td>\n",
       "      <td>NaN</td>\n",
       "      <td>NaN</td>\n",
       "      <td>NaN</td>\n",
       "      <td>NaN</td>\n",
       "      <td>NaN</td>\n",
       "      <td>NaN</td>\n",
       "    </tr>\n",
       "    <tr>\n",
       "      <th>4</th>\n",
       "      <td>10001</td>\n",
       "      <td>1942-7-5</td>\n",
       "      <td>0</td>\n",
       "      <td>NaN</td>\n",
       "      <td>26.666667</td>\n",
       "      <td>21.666667</td>\n",
       "      <td>24.444444</td>\n",
       "      <td>0.0</td>\n",
       "      <td>NaN</td>\n",
       "      <td>42</td>\n",
       "      <td>...</td>\n",
       "      <td>NaN</td>\n",
       "      <td>NaN</td>\n",
       "      <td>NaN</td>\n",
       "      <td>NaN</td>\n",
       "      <td>NaN</td>\n",
       "      <td>NaN</td>\n",
       "      <td>NaN</td>\n",
       "      <td>NaN</td>\n",
       "      <td>NaN</td>\n",
       "      <td>NaN</td>\n",
       "    </tr>\n",
       "  </tbody>\n",
       "</table>\n",
       "<p>5 rows × 31 columns</p>\n",
       "</div>"
      ],
      "text/plain": [
       "     STA      Date Precip  WindGustSpd    MaxTemp    MinTemp   MeanTemp  \\\n",
       "0  10001  1942-7-1  1.016          NaN  25.555556  22.222222  23.888889   \n",
       "1  10001  1942-7-2      0          NaN  28.888889  21.666667  25.555556   \n",
       "2  10001  1942-7-3   2.54          NaN  26.111111  22.222222  24.444444   \n",
       "3  10001  1942-7-4   2.54          NaN  26.666667  22.222222  24.444444   \n",
       "4  10001  1942-7-5      0          NaN  26.666667  21.666667  24.444444   \n",
       "\n",
       "  Snowfall PoorWeather  YR  ...  FB  FTI ITH  PGT  TSHDSBRSGF  SD3  RHX  RHN  \\\n",
       "0      0.0         NaN  42  ... NaN  NaN NaN  NaN         NaN  NaN  NaN  NaN   \n",
       "1      0.0         NaN  42  ... NaN  NaN NaN  NaN         NaN  NaN  NaN  NaN   \n",
       "2      0.0         NaN  42  ... NaN  NaN NaN  NaN         NaN  NaN  NaN  NaN   \n",
       "3      0.0         NaN  42  ... NaN  NaN NaN  NaN         NaN  NaN  NaN  NaN   \n",
       "4      0.0         NaN  42  ... NaN  NaN NaN  NaN         NaN  NaN  NaN  NaN   \n",
       "\n",
       "  RVG  WTE  \n",
       "0 NaN  NaN  \n",
       "1 NaN  NaN  \n",
       "2 NaN  NaN  \n",
       "3 NaN  NaN  \n",
       "4 NaN  NaN  \n",
       "\n",
       "[5 rows x 31 columns]"
      ]
     },
     "execution_count": 412,
     "metadata": {},
     "output_type": "execute_result"
    }
   ],
   "source": [
    "df = pd.read_csv('Summary of Weather.csv')\n",
    "data = df.copy()\n",
    "data.head()"
   ]
  },
  {
   "cell_type": "markdown",
   "metadata": {},
   "source": [
    "# 1. About the Data\n"
   ]
  },
  {
   "cell_type": "markdown",
   "metadata": {},
   "source": [
    "The data set that was chosen was a dataset found on kaggle. [Click Here](https://www.kaggle.com/datasets/smid80/weatherww2/data?select=Summary+of+Weather.csv) for the link to the dataset. \n",
    "\n",
    "The dataset is about the weather during WW2 at mulitple different weather stations around the world. The data includes information about precipitation, snowfall, temperatures, wind speed, and whether the day included thunder storms or other poor weather conditions. In this analysis, I am first going to clean the data, and then run analysis on seeing if we can **predict** the max temperature when we know the min."
   ]
  },
  {
   "cell_type": "code",
   "execution_count": 413,
   "metadata": {},
   "outputs": [
    {
     "data": {
      "text/plain": [
       "(119040, 31)"
      ]
     },
     "execution_count": 413,
     "metadata": {},
     "output_type": "execute_result"
    }
   ],
   "source": [
    "data.shape"
   ]
  },
  {
   "cell_type": "code",
   "execution_count": 414,
   "metadata": {},
   "outputs": [
    {
     "data": {
      "text/plain": [
       "float64    20\n",
       "object      7\n",
       "int64       4\n",
       "Name: count, dtype: int64"
      ]
     },
     "execution_count": 414,
     "metadata": {},
     "output_type": "execute_result"
    }
   ],
   "source": [
    "data.dtypes.value_counts()"
   ]
  },
  {
   "cell_type": "markdown",
   "metadata": {},
   "source": [
    "Checking to see if there are any null values"
   ]
  },
  {
   "cell_type": "code",
   "execution_count": 415,
   "metadata": {},
   "outputs": [
    {
     "data": {
      "text/plain": [
       "STA                 0\n",
       "Date                0\n",
       "Precip              0\n",
       "WindGustSpd    118508\n",
       "MaxTemp             0\n",
       "MinTemp             0\n",
       "MeanTemp            0\n",
       "Snowfall         1163\n",
       "PoorWeather     84803\n",
       "YR                  0\n",
       "MO                  0\n",
       "DA                  0\n",
       "PRCP             1932\n",
       "DR             118507\n",
       "SPD            118508\n",
       "MAX               474\n",
       "MIN               468\n",
       "MEA               498\n",
       "SNF              1163\n",
       "SND            113477\n",
       "FT             119040\n",
       "FB             119040\n",
       "FTI            119040\n",
       "ITH            119040\n",
       "PGT            118515\n",
       "TSHDSBRSGF      84803\n",
       "SD3            119040\n",
       "RHX            119040\n",
       "RHN            119040\n",
       "RVG            119040\n",
       "WTE            119040\n",
       "dtype: int64"
      ]
     },
     "execution_count": 415,
     "metadata": {},
     "output_type": "execute_result"
    }
   ],
   "source": [
    "data.isnull().sum()"
   ]
  },
  {
   "cell_type": "markdown",
   "metadata": {},
   "source": [
    "As we can see, `FT, FB, FTI, ITH, SD3, RHX, RHN, RVG, WTE` contain all null values. \n",
    "\n",
    "Also, `WindGustSpd, DR, SPD, SND, and PGT` are majority null.\n",
    "\n",
    "With that being said, we are going to remove all of those columns."
   ]
  },
  {
   "cell_type": "code",
   "execution_count": 416,
   "metadata": {},
   "outputs": [
    {
     "data": {
      "text/plain": [
       "['WindGustSpd',\n",
       " 'PoorWeather',\n",
       " 'DR',\n",
       " 'SPD',\n",
       " 'SND',\n",
       " 'FT',\n",
       " 'FB',\n",
       " 'FTI',\n",
       " 'ITH',\n",
       " 'PGT',\n",
       " 'TSHDSBRSGF',\n",
       " 'SD3',\n",
       " 'RHX',\n",
       " 'RHN',\n",
       " 'RVG',\n",
       " 'WTE']"
      ]
     },
     "execution_count": 416,
     "metadata": {},
     "output_type": "execute_result"
    }
   ],
   "source": [
    "null_list"
   ]
  },
  {
   "cell_type": "code",
   "execution_count": 417,
   "metadata": {},
   "outputs": [
    {
     "data": {
      "text/plain": [
       "Index(['STA', 'Date', 'Precip', 'MaxTemp', 'MinTemp', 'MeanTemp', 'Snowfall',\n",
       "       'YR', 'MO', 'DA', 'PRCP', 'MAX', 'MIN', 'MEA', 'SNF'],\n",
       "      dtype='object')"
      ]
     },
     "execution_count": 417,
     "metadata": {},
     "output_type": "execute_result"
    }
   ],
   "source": [
    "null_list = data.isnull().sum()[data.isnull().sum() > 59000].index.tolist()\n",
    "data.drop(columns=null_list, inplace=True)\n",
    "data.columns"
   ]
  },
  {
   "cell_type": "code",
   "execution_count": 418,
   "metadata": {},
   "outputs": [
    {
     "data": {
      "text/plain": [
       "STA         119040\n",
       "Date        119040\n",
       "Precip      119040\n",
       "MaxTemp     119040\n",
       "MinTemp     119040\n",
       "MeanTemp    119040\n",
       "Snowfall    117877\n",
       "YR          119040\n",
       "MO          119040\n",
       "DA          119040\n",
       "PRCP        117108\n",
       "MAX         118566\n",
       "MIN         118572\n",
       "MEA         118542\n",
       "SNF         117877\n",
       "dtype: int64"
      ]
     },
     "execution_count": 418,
     "metadata": {},
     "output_type": "execute_result"
    }
   ],
   "source": [
    "data.count()"
   ]
  },
  {
   "cell_type": "markdown",
   "metadata": {},
   "source": [
    "Now let's look at the object data types of the dataset and analyze them. "
   ]
  },
  {
   "cell_type": "code",
   "execution_count": 419,
   "metadata": {},
   "outputs": [
    {
     "data": {
      "text/plain": [
       "['Date', 'Precip', 'Snowfall', 'PRCP', 'SNF']"
      ]
     },
     "execution_count": 419,
     "metadata": {},
     "output_type": "execute_result"
    }
   ],
   "source": [
    "object_dt = data.select_dtypes(include = 'object').columns.tolist()\n",
    "object_dt"
   ]
  },
  {
   "cell_type": "markdown",
   "metadata": {},
   "source": [
    "Notice that `Precip` and `Snowfall` are measures that should be of type float. Lets change that. First, lets evaluate the items of each column to see if we can cast them:"
   ]
  },
  {
   "cell_type": "code",
   "execution_count": 420,
   "metadata": {},
   "outputs": [
    {
     "data": {
      "text/plain": [
       "array(['1.016', '0', '2.54', 'T', '3.556', '0.508', '0.254', '1.778',\n",
       "       '3.302', '0.762', '5.588', '5.08', '2.032', '25.654', '40.132',\n",
       "       '19.05', '23.876', '4.064', '12.192', '2.794', '33.274', '19.304',\n",
       "       '47.752', '6.35', '3.048', '8.382', '10.16', '27.178', '30.48',\n",
       "       '45.212', '10.668', '15.494', '57.658', '58.166', '11.43',\n",
       "       '31.242', '17.78', '26.924', '26.67', '6.604', '5.334', '4.826',\n",
       "       '7.62', '8.636', '7.874', '12.446', '90.932', '13.462', '11.938',\n",
       "       '5.842', '4.318', '6.096', '9.144', '4.572', '9.906', '9.652',\n",
       "       '1.524', '13.97', '17.272', '33.528', '1.27', '13.716', '8.128',\n",
       "       '22.352', '39.116', '36.068', '98.044', '3.81', '14.986', '78.232',\n",
       "       '146.304', '14.732', '21.844', '120.904', '42.164', '23.368',\n",
       "       '21.082', '44.958', '2.286', '50.038', '17.526', '51.054', '7.112',\n",
       "       '25.4', '7.366', '16.256', '46.736', '8.89', '24.638', '11.684',\n",
       "       '17.018', '144.78', '18.034', '50.8', '106.426', '36.576', '53.34',\n",
       "       '34.798', '12.954', '26.416', '85.598', '47.498', '12.7', '11.176',\n",
       "       '59.182', '33.782', '40.894', '28.194', '24.892', '14.478',\n",
       "       '71.628', '102.108', '31.496', '36.322', '37.846', '35.56',\n",
       "       '31.75', '49.022', '69.85', '36.83', '19.558', '127.508', '64.77',\n",
       "       '105.156', '16.002', '75.184', '143.51', '60.96', '68.58', '55.88',\n",
       "       '23.622', '126.238', '70.358', '6.858', '16.764', '24.13',\n",
       "       '52.832', '25.146', '74.676', '16.51', '65.024', '51.816',\n",
       "       '13.208', '30.226', '29.972', '215.9', '21.336', '76.962',\n",
       "       '29.464', '9.398', '15.748', '45.974', '41.148', '48.514', '33.02',\n",
       "       '10.414', '18.796', '14.224', '68.326', '80.264', '70.866',\n",
       "       '35.814', '22.86', '30.988', '20.828', '34.036', '20.066',\n",
       "       '27.432', '62.23', '37.338', '55.372', '73.66', '18.288',\n",
       "       '114.808', '56.388', '273.558', '27.686', '111.506', '101.346',\n",
       "       '120.142', '116.586', '66.294', '32.766', '55.118', '30.734',\n",
       "       '46.228', '68.072', '62.484', '72.644', '203.708', '15.24',\n",
       "       '61.214', '48.768', '10.922', '54.61', '81.788', '38.1', '37.592',\n",
       "       '18.542', '49.784', '32.258', '94.488', '67.818', '41.402',\n",
       "       '22.606', '43.434', '27.94', '61.468', '25.908', '54.102',\n",
       "       '52.578', '46.99', '177.8', '28.956', '119.38', '44.45', '85.344',\n",
       "       '95.758', '91.948', '38.354', '39.624', '80.01', '40.386',\n",
       "       '35.306', '88.646', '65.786', '136.398', '77.978', '116.84',\n",
       "       '75.438', '69.596', '42.672', '39.37', '20.574', '39.878',\n",
       "       '42.926', '38.608', '155.448', '140.716', '148.336', '19.812',\n",
       "       '60.706', '97.028', '57.912', '72.898', '65.532', '71.882',\n",
       "       '21.59', '22.098', '34.29', '35.052', '43.18', '50.546', '20.32',\n",
       "       '70.612', '67.31', '28.448', '32.004', '48.006', '76.2', '37.084',\n",
       "       '48.26', '43.942', '76.708', '52.07', '52.324', '120.396',\n",
       "       '80.518', '63.5', '125.984', '116.332', '46.482', '76.454',\n",
       "       '34.544', '42.418', '29.21', '81.28', '24.384', '58.674',\n",
       "       '108.204', '173.736', '49.53', '225.298', '206.248', '162.052',\n",
       "       '87.122', '88.138', '103.632', '82.804', '93.726', '28.702',\n",
       "       '99.06', '61.976', '51.308', '110.998', '93.98', '107.442',\n",
       "       '23.114', '92.456', '57.15', '84.074', '40.64', '62.738', '41.656',\n",
       "       '32.512', '50.292', '26.162', '53.848', '73.914', '64.516',\n",
       "       '38.862', '84.836', '103.886', '41.91', '56.896', '82.042',\n",
       "       '66.548', '60.198', '53.086', '54.356', '45.72', '29.718',\n",
       "       '43.688', '67.056', '70.104', '69.342', '86.868', '86.106',\n",
       "       '58.42', '74.168', '68.834', '97.79', '44.704', '63.754', '56.134',\n",
       "       '66.04', '85.852', '64.262', '85.09', '122.936', '44.196',\n",
       "       '231.648', '83.058', '121.666', '56.642', '51.562', '113.538',\n",
       "       '75.946', '102.362', '54.864', '78.994', '75.692', '94.742',\n",
       "       '47.244', '74.422', '152.4', '71.374', '79.248', '130.048',\n",
       "       '97.536', '99.314', '238.76', '102.87', '82.296', '94.234',\n",
       "       '125.73', '59.436', '112.014', '182.372', '127', '88.392',\n",
       "       '211.328', '82.55', '107.696', '73.406', '124.46', '163.83',\n",
       "       '107.95', '62.992', '118.618', '136.652', '55.626', '101.092',\n",
       "       '90.424', '57.404', '98.552', '90.678', '95.504', '159.512',\n",
       "       '103.378', '139.446', '234.95', '133.35', '100.33', '63.246',\n",
       "       '73.152', '81.534', '157.48', '64.008', '77.47', '77.216', '59.69',\n",
       "       '71.12', '124.206', '59.944', '104.394', '253.238', '86.614',\n",
       "       '49.276', '77.724', '123.698', '106.68', '97.282', '45.466',\n",
       "       '126.492', '53.594', '123.952', '65.278', '92.71', '79.756',\n",
       "       '166.624', '74.93', '95.25', '61.722', '148.59', '248.92',\n",
       "       '100.584', '147.828', '257.048', '307.34', '184.15', '87.376',\n",
       "       '134.874', '206.756', '110.744', '79.502', '67.564', '81.026',\n",
       "       '89.408', '164.338', '101.854', '90.17', '134.62', '58.928',\n",
       "       '83.82', '121.92', '69.088', '91.694', '60.452', '105.41',\n",
       "       '143.002', '137.922', '87.884', '88.9', '112.776', '78.486',\n",
       "       '72.136', '194.564', '112.522', '134.112', '128.778', '83.312',\n",
       "       '96.774', '168.656', '78.74', '117.348', '80.772', '125.222',\n",
       "       '182.626', '132.588', '209.804', '116.078', '89.154', '129.54',\n",
       "       '96.266', '86.36', '117.602', '83.566', '92.964', '109.982',\n",
       "       '92.202', '149.352', '66.802', '122.174', '233.172', '200.406',\n",
       "       '124.968', '89.916', '139.954', '184.404', '91.44', '89.662',\n",
       "       '100.838', '101.6', '119.634', '98.298', '94.996', '132.842',\n",
       "       '84.328', '130.556', '99.822', '109.728', '91.186', '96.52',\n",
       "       '106.172', '72.39', '104.648', '238.506', '139.192', '132.334',\n",
       "       '113.03', '175.006', '124.714', '150.114', '125.476', '119.888',\n",
       "       '133.858', '167.386', '114.554', '115.316', '84.582', '185.166',\n",
       "       '104.902', '111.252', '164.846', '118.872', '167.64', '163.322',\n",
       "       '111.76', '104.14', '194.31', '140.208', '110.236', '153.162',\n",
       "       '165.1', '242.316', '154.686', '105.918', '133.096', '161.036'],\n",
       "      dtype=object)"
      ]
     },
     "execution_count": 420,
     "metadata": {},
     "output_type": "execute_result"
    }
   ],
   "source": [
    "data['Precip'].unique()"
   ]
  },
  {
   "cell_type": "markdown",
   "metadata": {},
   "source": [
    "Note that `Precip` has a value `T`. Let's see how many values there are of `T`:"
   ]
  },
  {
   "cell_type": "code",
   "execution_count": 421,
   "metadata": {},
   "outputs": [
    {
     "name": "stdout",
     "output_type": "stream",
     "text": [
      "16753\n",
      "(119040, 15)\n",
      "The ratio of T in 'Precip' is 0.14073420698924732\n"
     ]
    }
   ],
   "source": [
    "print(data['Precip'].value_counts().get('T'))\n",
    "print(data.shape)\n",
    "print(\"The ratio of T in 'Precip' is {}\".format(data['Precip'].value_counts().get('T')/data.shape[0]))"
   ]
  },
  {
   "cell_type": "markdown",
   "metadata": {},
   "source": [
    "Using context clues **I ASSUME** that `T` is for null values. Let us transform `T` into null values."
   ]
  },
  {
   "cell_type": "code",
   "execution_count": 422,
   "metadata": {},
   "outputs": [],
   "source": [
    "data['Precip'] = data['Precip'].replace('T', np.nan)\n",
    "data['Precip'] = data['Precip'].astype('float64')"
   ]
  },
  {
   "cell_type": "code",
   "execution_count": 423,
   "metadata": {},
   "outputs": [
    {
     "data": {
      "text/plain": [
       "STA           int64\n",
       "Date         object\n",
       "Precip      float64\n",
       "MaxTemp     float64\n",
       "MinTemp     float64\n",
       "MeanTemp    float64\n",
       "Snowfall     object\n",
       "YR            int64\n",
       "MO            int64\n",
       "DA            int64\n",
       "PRCP         object\n",
       "MAX         float64\n",
       "MIN         float64\n",
       "MEA         float64\n",
       "SNF          object\n",
       "dtype: object"
      ]
     },
     "execution_count": 423,
     "metadata": {},
     "output_type": "execute_result"
    }
   ],
   "source": [
    "data.dtypes"
   ]
  },
  {
   "cell_type": "markdown",
   "metadata": {},
   "source": [
    "Now, we will look into the `Snowfall` column and examine if we can convert it to float or not:"
   ]
  },
  {
   "cell_type": "code",
   "execution_count": 424,
   "metadata": {},
   "outputs": [
    {
     "data": {
      "text/plain": [
       "array([0.0, nan, '0', '22.86', '33.02', '30.48', '2.54', '5.08', '10.16',\n",
       "       '7.62', '20.32', '15.24', '17.78', '12.7', '25.4', '27.94',\n",
       "       '43.18', '38.1', '45.72', '53.34', '58.42', '66.04', '76.2',\n",
       "       '81.28', '73.66', '63.5', '50.8', '48.26', '60.96', '55.88',\n",
       "       '35.56', '78.74', '40.64', '86.36', '83.82', '68.58', '#VALUE!',\n",
       "       10.16, 7.62, 15.24, 2.54, 5.08, 12.7], dtype=object)"
      ]
     },
     "execution_count": 424,
     "metadata": {},
     "output_type": "execute_result"
    }
   ],
   "source": [
    "data['Snowfall'].unique()"
   ]
  },
  {
   "cell_type": "markdown",
   "metadata": {},
   "source": [
    "Note that the only value preventing this column to be of type `float64` is the value `#VALUE!`. Let us see how many occurances there are of this value. If there are not many, we will convert to `NaN`"
   ]
  },
  {
   "cell_type": "code",
   "execution_count": 425,
   "metadata": {},
   "outputs": [
    {
     "data": {
      "text/plain": [
       "44"
      ]
     },
     "execution_count": 425,
     "metadata": {},
     "output_type": "execute_result"
    }
   ],
   "source": [
    "data['Snowfall'].value_counts().get('#VALUE!')"
   ]
  },
  {
   "cell_type": "code",
   "execution_count": 426,
   "metadata": {},
   "outputs": [
    {
     "data": {
      "text/plain": [
       "Snowfall\n",
       "0.0      86090\n",
       "0        29600\n",
       "5.08       527\n",
       "7.62       319\n",
       "2.54       317\n",
       "10.16      195\n",
       "12.7        90\n",
       "20.32       83\n",
       "17.78       78\n",
       "15.24       70\n",
       "22.86       69\n",
       "25.4        68\n",
       "27.94       40\n",
       "30.48       31\n",
       "45.72       25\n",
       "50.8        24\n",
       "2.54        22\n",
       "48.26       22\n",
       "35.56       20\n",
       "33.02       15\n",
       "60.96       13\n",
       "7.62        11\n",
       "66.04       11\n",
       "38.1        11\n",
       "53.34       10\n",
       "43.18       10\n",
       "10.16       10\n",
       "63.5         7\n",
       "5.08         7\n",
       "55.88        6\n",
       "40.64        6\n",
       "76.2         5\n",
       "58.42        5\n",
       "15.24        4\n",
       "81.28        4\n",
       "12.7         2\n",
       "78.74        2\n",
       "73.66        1\n",
       "68.58        1\n",
       "83.82        1\n",
       "86.36        1\n",
       "Name: count, dtype: int64"
      ]
     },
     "execution_count": 426,
     "metadata": {},
     "output_type": "execute_result"
    }
   ],
   "source": [
    "data['Snowfall'] = data['Snowfall'].replace('#VALUE!', np.nan)\n",
    "data['Snowfall'].value_counts()"
   ]
  },
  {
   "cell_type": "markdown",
   "metadata": {},
   "source": [
    "Now we can convert the column to type `float64`"
   ]
  },
  {
   "cell_type": "code",
   "execution_count": 427,
   "metadata": {},
   "outputs": [
    {
     "data": {
      "text/plain": [
       "STA           int64\n",
       "Date         object\n",
       "Precip      float64\n",
       "MaxTemp     float64\n",
       "MinTemp     float64\n",
       "MeanTemp    float64\n",
       "Snowfall    float64\n",
       "YR            int64\n",
       "MO            int64\n",
       "DA            int64\n",
       "PRCP         object\n",
       "MAX         float64\n",
       "MIN         float64\n",
       "MEA         float64\n",
       "SNF          object\n",
       "dtype: object"
      ]
     },
     "execution_count": 427,
     "metadata": {},
     "output_type": "execute_result"
    }
   ],
   "source": [
    "data['Snowfall'] = data['Snowfall'].astype('float64')\n",
    "data.dtypes"
   ]
  },
  {
   "cell_type": "markdown",
   "metadata": {},
   "source": [
    "Now, looking at the columns that we are going to use during regression, `min and max`, let us see if they are clean and ready to use."
   ]
  },
  {
   "cell_type": "code",
   "execution_count": 428,
   "metadata": {},
   "outputs": [
    {
     "name": "stdout",
     "output_type": "stream",
     "text": [
      "Number of Null Values in 'MIN': 468\n",
      "Number of Null Values in 'MAX': 474\n",
      "Number of Null Values in 'MEA': 498\n"
     ]
    }
   ],
   "source": [
    "print(\"Number of Null Values in 'MIN':\",data['MIN'].isna().sum())\n",
    "print(\"Number of Null Values in 'MAX':\",data['MAX'].isna().sum())\n",
    "print(\"Number of Null Values in 'MEA':\",data['MEA'].isna().sum())"
   ]
  },
  {
   "cell_type": "markdown",
   "metadata": {},
   "source": [
    "Since we have some null values in `MAX, MIN, and MEA`, it will hinder our regression. Let us remove these rows so we can run our models."
   ]
  },
  {
   "cell_type": "code",
   "execution_count": 429,
   "metadata": {},
   "outputs": [],
   "source": [
    "min_na = data[data['MIN'].isna()].index.tolist()\n",
    "data.drop(index = min_na, inplace=True)\n",
    "\n",
    "max_na = data[data['MAX'].isna()].index.tolist()\n",
    "data.drop(index = max_na, inplace=True)\n",
    "\n",
    "mean_na = data[data['MEA'].isna()].index.tolist()\n",
    "data.drop(index = mean_na, inplace=True)"
   ]
  },
  {
   "cell_type": "code",
   "execution_count": 430,
   "metadata": {},
   "outputs": [
    {
     "name": "stdout",
     "output_type": "stream",
     "text": [
      "Number of Null Values in 'MIN': 0\n",
      "Number of Null Values in 'MAX': 0\n",
      "Number of Null Values in 'MEA': 0\n"
     ]
    }
   ],
   "source": [
    "print(\"Number of Null Values in 'MIN':\",data['MIN'].isna().sum())\n",
    "print(\"Number of Null Values in 'MAX':\",data['MAX'].isna().sum())\n",
    "print(\"Number of Null Values in 'MEA':\",data['MEA'].isna().sum())"
   ]
  },
  {
   "cell_type": "markdown",
   "metadata": {},
   "source": [
    "Looking at the new shape of the data, and the new columns:"
   ]
  },
  {
   "cell_type": "code",
   "execution_count": 431,
   "metadata": {},
   "outputs": [
    {
     "data": {
      "text/plain": [
       "(118540, 15)"
      ]
     },
     "execution_count": 431,
     "metadata": {},
     "output_type": "execute_result"
    }
   ],
   "source": [
    "data.shape"
   ]
  },
  {
   "cell_type": "code",
   "execution_count": 432,
   "metadata": {},
   "outputs": [
    {
     "data": {
      "text/plain": [
       "Index(['STA', 'Date', 'Precip', 'MaxTemp', 'MinTemp', 'MeanTemp', 'Snowfall',\n",
       "       'YR', 'MO', 'DA', 'PRCP', 'MAX', 'MIN', 'MEA', 'SNF'],\n",
       "      dtype='object')"
      ]
     },
     "execution_count": 432,
     "metadata": {},
     "output_type": "execute_result"
    }
   ],
   "source": [
    "data.columns"
   ]
  },
  {
   "cell_type": "markdown",
   "metadata": {},
   "source": [
    "Furthering my EDA, let's investigate the shape to our `MIN` and `MAX` and `MEA` features. \n",
    "\n",
    "**`NOTE: MinTemp and MIN are not going to be the same values, since MinTemp is in Celsius while MIN is in Fahrenheit`**"
   ]
  },
  {
   "cell_type": "code",
   "execution_count": 433,
   "metadata": {},
   "outputs": [
    {
     "data": {
      "text/plain": [
       "Text(313.26767676767673, 0.5, 'Max Temp (F)')"
      ]
     },
     "execution_count": 433,
     "metadata": {},
     "output_type": "execute_result"
    },
    {
     "data": {
      "image/png": "[encoded data removed]",
      "text/plain": [
       "<Figure size 640x480 with 4 Axes>"
      ]
     },
     "metadata": {},
     "output_type": "display_data"
    }
   ],
   "source": [
    "from sklearn.preprocessing import PowerTransformer\n",
    "\n",
    "pt = PowerTransformer(method = 'yeo-johnson')\n",
    "X_transformed = data['MIN']\n",
    "\n",
    "fig, axs = plt.subplots(2,2)\n",
    "fig.tight_layout(pad=2)\n",
    "axs[0,0].hist(x = data['MIN'])\n",
    "axs[0,0].set_title('MIN TEMP')\n",
    "\n",
    "axs[1,0].hist(x = data['MAX'])\n",
    "axs[1,0].set_title('MAX TEMP')\n",
    "\n",
    "axs[0,1].hist(x = data[\"MEA\"])\n",
    "axs[0,1].set_title('MEAN TEMP')\n",
    "\n",
    "axs[1,1].plot('MIN', 'MAX', data=data, ls= '', marker = 'x',markersize=.5)\n",
    "axs[1,1].set_title('Min Temp vs Max Temp')\n",
    "axs[1,1].set_xlabel('Min Temp (F)')\n",
    "axs[1,1].set_ylabel('Max Temp (F)')\n",
    "\n"
   ]
  },
  {
   "cell_type": "markdown",
   "metadata": {},
   "source": [
    "Seeing these graphs, let's check the skew of these temperatures:"
   ]
  },
  {
   "cell_type": "code",
   "execution_count": 434,
   "metadata": {},
   "outputs": [
    {
     "name": "stdout",
     "output_type": "stream",
     "text": [
      "The skew of the Min Temps: -1.8208393728178607\n",
      "The skew of the Max Temps: -1.8816785681212058\n",
      "The skew of the Mean Temps: -2.0268360187039165\n"
     ]
    }
   ],
   "source": [
    "print(\"The skew of the Min Temps:\",data['MIN'].skew())\n",
    "print(\"The skew of the Max Temps:\",data['MAX'].skew())\n",
    "print(\"The skew of the Mean Temps:\",data['MEA'].skew())"
   ]
  },
  {
   "cell_type": "markdown",
   "metadata": {},
   "source": [
    "As we can see, on these graphs, we are skewed left. Before doing any transformations, let's analyze the correlation between the `MIN` and `MAX` features:"
   ]
  },
  {
   "cell_type": "code",
   "execution_count": 435,
   "metadata": {
    "scrolled": true
   },
   "outputs": [
    {
     "data": {
      "text/plain": [
       "[<matplotlib.lines.Line2D at 0x3053cade0>]"
      ]
     },
     "execution_count": 435,
     "metadata": {},
     "output_type": "execute_result"
    },
    {
     "data": {
      "image/png": "[encoded data removed]",
      "text/plain": [
       "<Figure size 640x480 with 1 Axes>"
      ]
     },
     "metadata": {},
     "output_type": "display_data"
    }
   ],
   "source": [
    "plt.plot(data['MIN'], data['MAX'], ls = '', marker='o', markersize= 2)"
   ]
  },
  {
   "cell_type": "code",
   "execution_count": 436,
   "metadata": {},
   "outputs": [
    {
     "name": "stdout",
     "output_type": "stream",
     "text": [
      "The correlation coefficient between MIN values and MAX values: 0.8737194307713753\n"
     ]
    }
   ],
   "source": [
    "print(\"The correlation coefficient between MIN values and MAX values:\", data['MIN'].corr(data['MAX']))\n"
   ]
  },
  {
   "cell_type": "markdown",
   "metadata": {},
   "source": [
    "As we can see, the correlation coefficent is strong, therefore, we can proceed to regression **without** any transformations!"
   ]
  },
  {
   "cell_type": "markdown",
   "metadata": {
    "jp-MarkdownHeadingCollapsed": true
   },
   "source": [
    "# 2. Objectives\n"
   ]
  },
  {
   "cell_type": "markdown",
   "metadata": {},
   "source": [
    "In this report, we are going to run models to try and predict the `MAX` temperature when given the `MIN`. From our EDA in the `About the Data` section, we are going to not transform the data, since we have a strong correlation coefficient to the data. We will do a train-test split with 5 folds to ensure that we are getting the best models. Also, before running LASSO and Ridge Regression, we are going to StandardScale the values."
   ]
  },
  {
   "cell_type": "markdown",
   "metadata": {},
   "source": [
    "Afterwards, we are going to determine which of the models we ran is the most accurate by looking at the `Root Mean Squared Error (RSME)`. This statistic will create a measure for us to analyze which of our models are the best for our situations."
   ]
  },
  {
   "cell_type": "markdown",
   "metadata": {},
   "source": [
    "After we determine the best model for predicting the `MAX` temp, we are going to (for fun) create a model that takes in the `Precip` and `MIN` values to see if we can predict the `MAX` temp."
   ]
  },
  {
   "cell_type": "markdown",
   "metadata": {
    "jp-MarkdownHeadingCollapsed": true
   },
   "source": [
    "# 3. Linear Regression Models\n"
   ]
  },
  {
   "cell_type": "code",
   "execution_count": 437,
   "metadata": {},
   "outputs": [],
   "source": [
    "from sklearn.preprocessing import StandardScaler, Normalizer, PolynomialFeatures\n",
    "from sklearn.linear_model import LinearRegression, LassoCV, RidgeCV\n",
    "from sklearn.model_selection import cross_val_predict, KFold\n",
    "from sklearn.metrics import mean_squared_error, r2_score\n",
    "from sklearn.pipeline import Pipeline"
   ]
  },
  {
   "cell_type": "code",
   "execution_count": 438,
   "metadata": {},
   "outputs": [],
   "source": [
    "def rmse(ytrue, ypredicted):\n",
    "    return np.sqrt(mean_squared_error(ytrue, ypredicted))"
   ]
  },
  {
   "cell_type": "markdown",
   "metadata": {},
   "source": [
    "Firstly, we have to select our X and y, and set up for regression:"
   ]
  },
  {
   "cell_type": "code",
   "execution_count": 498,
   "metadata": {},
   "outputs": [],
   "source": [
    "# Finding X and y\n",
    "X = data[['MIN']]\n",
    "y = data['MAX']\n",
    "\n",
    "kf = KFold(n_splits=5, shuffle=True, random_state=42)\n",
    "\n",
    "estimator_lin = Pipeline([('scaler', StandardScaler()), \n",
    "                          ('lr', LinearRegression())])\n",
    "\n",
    "estimator_lasso = Pipeline([('scaler', StandardScaler()), \n",
    "                            ('lasso', LassoCV(alphas=np.logspace(-6, 6, 100), cv=kf, random_state=42, max_iter=1000))])\n",
    "\n",
    "estimator_ridge = Pipeline([('scaler', StandardScaler()), \n",
    "                            ('ridge', RidgeCV(alphas=np.logspace(-6, 6, 100), cv=kf))])"
   ]
  },
  {
   "cell_type": "markdown",
   "metadata": {},
   "source": [
    "Now, we are going to run the models and track the scores, depicting which is better."
   ]
  },
  {
   "cell_type": "code",
   "execution_count": 499,
   "metadata": {},
   "outputs": [
    {
     "name": "stdout",
     "output_type": "stream",
     "text": [
      "R^2 scores for Linear Regression: [0.7647162528369816, 0.7636608098936603, 0.7638174783001559, 0.7660743599366585, 0.7585615240394776]\n",
      "Average R^2 score for Linear Regression: 0.7633660850013868\n",
      "Average RMSE score for Linear Regression: 7.233399860395069\n",
      "\n",
      "R^2 scores for LassoCV: [0.7647162522288342, 0.7636608096245697, 0.763817478818268, 0.7660743597600191, 0.7585615245917818]\n",
      "Average R^2 score for LassoCV: 0.7633660850046946\n",
      "Average RMSE score for Linear Regression: 7.23339986039514\n",
      "Best alpha for LassoCV: 1e-06\n",
      "\n",
      "R^2 scores for RidgeCV: [0.7647155720974983, 0.7636605059167128, 0.7638184681797271, 0.7660738768832784, 0.7585621334329323]\n",
      "Average R^2 score for RidgeCV: 0.7633661113020298\n",
      "Average RMSE score for Linear Regression: 7.233399523608044\n",
      "Best alpha for RidgeCV: 8.111308307896872\n"
     ]
    }
   ],
   "source": [
    "scores_lin = []\n",
    "scores_lasso = []\n",
    "scores_ridge = []\n",
    "rmse_lin = []\n",
    "rmse_lasso = []\n",
    "rmse_ridge = []\n",
    "\n",
    "for train_index, test_index in kf.split(X):\n",
    "    X_train, X_test = X.iloc[train_index], X.iloc[test_index]\n",
    "    y_train, y_test = y.iloc[train_index], y.iloc[test_index]\n",
    "\n",
    "    estimator_lin.fit(X_train, y_train)\n",
    "    y_pred_lin = estimator_lin.predict(X_test)\n",
    "    scores_lin.append(r2_score(y_test, y_pred_lin))\n",
    "    rmse_lin.append(rmse(y_test, y_pred_lin))\n",
    "    \n",
    "    estimator_lasso.fit(X_train, y_train)\n",
    "    y_pred_lasso = estimator_lasso.predict(X_test)\n",
    "    scores_lasso.append(r2_score(y_test, y_pred_lasso))\n",
    "    rmse_lasso.append(rmse(y_test, y_pred_lasso))\n",
    "    \n",
    "    estimator_ridge.fit(X_train, y_train)\n",
    "    y_pred_ridge = estimator_ridge.predict(X_test)\n",
    "    scores_ridge.append(r2_score(y_test, y_pred_ridge))\n",
    "    rmse_ridge.append(rmse(y_test, y_pred_ridge))\n",
    "\n",
    "print(\"R^2 scores for Linear Regression:\", scores_lin)\n",
    "print(\"Average R^2 score for Linear Regression:\", np.mean(scores_lin))\n",
    "print(\"Average RMSE score for Linear Regression:\", np.mean(rmse_lin))\n",
    "\n",
    "print(\"\\nR^2 scores for LassoCV:\", scores_lasso)\n",
    "print(\"Average R^2 score for LassoCV:\", np.mean(scores_lasso))\n",
    "print(\"Average RMSE score for Linear Regression:\", np.mean(rmse_lasso))\n",
    "print(f\"Best alpha for LassoCV: {estimator_lasso.named_steps['lasso'].alpha_}\")\n",
    "\n",
    "print(\"\\nR^2 scores for RidgeCV:\", scores_ridge)\n",
    "print(\"Average R^2 score for RidgeCV:\", np.mean(scores_ridge))\n",
    "print(\"Average RMSE score for Linear Regression:\", np.mean(rmse_ridge))\n",
    "print(f\"Best alpha for RidgeCV: {estimator_ridge.named_steps['ridge'].alpha_}\")\n"
   ]
  },
  {
   "cell_type": "markdown",
   "metadata": {},
   "source": [
    "As we can see, all the values are significantly close to one another. `Ridge Regression` has a lower RMSE and a higher R^2 value, therefore, that would be the best regression to be used. <br>\n",
    "`Note: we can use any of the regressions as they are all very close to one another.`"
   ]
  },
  {
   "cell_type": "markdown",
   "metadata": {
    "jp-MarkdownHeadingCollapsed": true
   },
   "source": [
    "# 4. Linear Regression Models (BONUS)"
   ]
  },
  {
   "cell_type": "markdown",
   "metadata": {},
   "source": [
    "Here, we are going to gather our data in order to create a model to predict the `MAX` temperature when given the `MIN and Precip`.\n",
    "<br>\n",
    "Remember that earlier, there were `NULL` values in `Precip`, therefore, we need to drop those rows."
   ]
  },
  {
   "cell_type": "code",
   "execution_count": 480,
   "metadata": {},
   "outputs": [
    {
     "name": "stdout",
     "output_type": "stream",
     "text": [
      "The number of null values in Precip 16706\n",
      "The number of null values in Precip 0\n"
     ]
    }
   ],
   "source": [
    "data2 = data.copy()\n",
    "\n",
    "print('The number of null values in Precip', data2['Precip'].isnull().sum())\n",
    "\n",
    "precip_na = data[data['Precip'].isna()].index.tolist()\n",
    "data2.drop(index = precip_na, inplace=True)\n",
    "\n",
    "print('The number of null values in Precip', data2['Precip'].isnull().sum())"
   ]
  },
  {
   "cell_type": "markdown",
   "metadata": {},
   "source": [
    "Running analysis on this new data:"
   ]
  },
  {
   "cell_type": "code",
   "execution_count": 490,
   "metadata": {},
   "outputs": [],
   "source": [
    "X = data2[['MIN','Precip']]\n",
    "y = data2['MAX']\n",
    "\n",
    "kf = KFold(shuffle= True, n_splits=5, random_state=42)\n",
    "\n",
    "alphas=np.logspace(-6,6,100)\n",
    "\n",
    "estimator_lin = Pipeline([\n",
    "    ('scaler', StandardScaler()),\n",
    "    ('lr', LinearRegression())\n",
    "])\n",
    "estimator_lasso = Pipeline([\n",
    "    ('scaler', StandardScaler()),\n",
    "    ('lasso', LassoCV(alphas = alphas, cv=kf, max_iter=1000, random_state=42))\n",
    "])\n",
    "estimator_ridge = Pipeline([\n",
    "    ('scaler', StandardScaler()),\n",
    "    ('ridge', RidgeCV(alphas = alphas, cv=kf))\n",
    "])"
   ]
  },
  {
   "cell_type": "code",
   "execution_count": 491,
   "metadata": {},
   "outputs": [
    {
     "name": "stdout",
     "output_type": "stream",
     "text": [
      "R^2 scores for Linear Regression: [0.7532194770340483, 0.7561704575178749, 0.7556765423578402, 0.7487752417232655, 0.7408845182357401]\n",
      "Average R^2 score for Linear Regression: 0.7509452473737538\n",
      "Average RMSE score for Linear Regression: 7.236968420196673\n",
      "\n",
      "R^2 scores for LassoCV: [0.75321947807262, 0.756165829053966, 0.7556765410055054, 0.7487752432740039, 0.740884519687266]\n",
      "Average R^2 score for LassoCV: 0.7509443222186722\n",
      "Average RMSE score for Linear Regression: 7.236982165265874\n",
      "Best alpha for LassoCV: 1e-06\n",
      "\n",
      "R^2 scores for RidgeCV: [0.7532196670179956, 0.7561690297134106, 0.755676165126888, 0.7487757531881548, 0.7408879873817493]\n",
      "Average R^2 score for RidgeCV: 0.7509457204856396\n",
      "Average RMSE score for Linear Regression: 7.236962081360623\n",
      "Best alpha for RidgeCV: 18.738174228603867\n"
     ]
    }
   ],
   "source": [
    "scores_lin = []\n",
    "scores_lasso = []\n",
    "scores_ridge = []\n",
    "rmse_lin = []\n",
    "rmse_lasso = []\n",
    "rmse_ridge = []\n",
    "\n",
    "for train_index, test_index in kf.split(X):\n",
    "    X_train, X_test = X.iloc[train_index], X.iloc[test_index]\n",
    "    y_train, y_test = y.iloc[train_index], y.iloc[test_index]\n",
    "\n",
    "    estimator_lin.fit(X_train, y_train)\n",
    "    y_pred_lin = estimator_lin.predict(X_test)\n",
    "    scores_lin.append(r2_score(y_test, y_pred_lin))\n",
    "    rmse_lin.append(rmse(y_test, y_pred_lin))\n",
    "    \n",
    "    estimator_lasso.fit(X_train, y_train)\n",
    "    y_pred_lasso = estimator_lasso.predict(X_test)\n",
    "    scores_lasso.append(r2_score(y_test, y_pred_lasso))\n",
    "    rmse_lasso.append(rmse(y_test, y_pred_lasso))\n",
    "    \n",
    "    estimator_ridge.fit(X_train, y_train)\n",
    "    y_pred_ridge = estimator_ridge.predict(X_test)\n",
    "    scores_ridge.append(r2_score(y_test, y_pred_ridge))\n",
    "    rmse_ridge.append(rmse(y_test, y_pred_ridge))\n",
    "\n",
    "print(\"R^2 scores for Linear Regression:\", scores_lin)\n",
    "print(\"Average R^2 score for Linear Regression:\", np.mean(scores_lin))\n",
    "print(\"Average RMSE score for Linear Regression:\", np.mean(rmse_lin))\n",
    "\n",
    "print(\"\\nR^2 scores for LassoCV:\", scores_lasso)\n",
    "print(\"Average R^2 score for LassoCV:\", np.mean(scores_lasso))\n",
    "print(\"Average RMSE score for Linear Regression:\", np.mean(rmse_lasso))\n",
    "print(f\"Best alpha for LassoCV: {estimator_lasso.named_steps['lasso'].alpha_}\")\n",
    "\n",
    "print(\"\\nR^2 scores for RidgeCV:\", scores_ridge)\n",
    "print(\"Average R^2 score for RidgeCV:\", np.mean(scores_ridge))\n",
    "print(\"Average RMSE score for Linear Regression:\", np.mean(rmse_ridge))\n",
    "print(f\"Best alpha for RidgeCV: {estimator_ridge.named_steps['ridge'].alpha_}\")\n"
   ]
  },
  {
   "cell_type": "markdown",
   "metadata": {},
   "source": [
    "We can see that the best model, yet again, is the ridge model. With the same comment as last time, the value difference is very tiny, therefore choosing a model will not **GREATLY** affect the outcome."
   ]
  },
  {
   "cell_type": "markdown",
   "metadata": {
    "jp-MarkdownHeadingCollapsed": true
   },
   "source": [
    "# 5. Insights and key findings\n"
   ]
  },
  {
   "cell_type": "markdown",
   "metadata": {},
   "source": [
    "Important findings during my EDA consisted of noticing that there were multiple columns with no values in them. Removing them helped clean the data. Another finding was that the `MIN, MAX, and MEA` columns all were skewed to the left. We could have transformed the data to get rid of the skewness, however, as pointed out, the correlation coefficient was high. This brought to our attentions that transforming the data for a linear regression would not be of greatest importance, but could be something to be consider for improving these models."
   ]
  },
  {
   "cell_type": "markdown",
   "metadata": {},
   "source": [
    "After running models, we can see that if we want to predict the `MAX` temperature when given the `MIN` values or given both `MIN and Precip` values, the Ridge Regression is the best one to choose. With a mean R^2 score of ~0.7633661 when `MIN` is given and a mean R^2 score of ~0.75094572 when `MIN and Precip` are given, we can see that the precentage of variance explained is decent, but could be higher. Therefore, this model may not have the best prediction, but can give a good ball-park guess. "
   ]
  },
  {
   "cell_type": "markdown",
   "metadata": {},
   "source": [
    "It is also good to notice that the model we ran when given `MIN` and `Precip` actually had a smaller R^2 value. Therefore, adding in precipitation increased unexplained variability."
   ]
  },
  {
   "cell_type": "markdown",
   "metadata": {
    "jp-MarkdownHeadingCollapsed": true
   },
   "source": [
    "# 6. Next Steps\n"
   ]
  },
  {
   "cell_type": "markdown",
   "metadata": {},
   "source": [
    "Next steps for analysis would be to consider the rows that we dropped before running analysis. Would having those null values be the mean value of the set impact our model? Another step would be to consider more variables, or even try adding in polynomial features. This could create a better fit for our model. Also, experimenting with the number of folds and alphas could be beneficial. Trying to optimize the model is a possibility."
   ]
  },
  {
   "cell_type": "markdown",
   "metadata": {},
   "source": [
    "Another way of trying to analyze the data would be to use a different time-frame for weather. This data is from WW2, therefore if we chose data from the 2000s or 1800s, the findings may be different."
   ]
  },
  {
   "cell_type": "markdown",
   "metadata": {},
   "source": [
    "## <h3 align=\"center\"> © IBM Corporation 2020. All rights reserved. <h3/>\n"
   ]
  }
 ],
 "metadata": {
  "kernelspec": {
   "display_name": "Python 3 (ipykernel)",
   "language": "python",
   "name": "python3"
  },
  "language_info": {
   "codemirror_mode": {
    "name": "ipython",
    "version": 3
   },
   "file_extension": ".py",
   "mimetype": "text/x-python",
   "name": "python",
   "nbconvert_exporter": "python",
   "pygments_lexer": "ipython3",
   "version": "3.12.3"
  }
 },
 "nbformat": 4,
 "nbformat_minor": 4
}

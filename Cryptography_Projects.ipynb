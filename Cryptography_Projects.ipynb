{
  "nbformat": 4,
  "nbformat_minor": 0,
  "metadata": {
    "colab": {
      "provenance": [],
      "toc_visible": true
    },
    "kernelspec": {
      "name": "python3",
      "display_name": "Python 3"
    },
    "language_info": {
      "name": "python"
    }
  },
  "cells": [
    {
      "cell_type": "markdown",
      "source": [
        "# **Cryptography Projects**"
      ],
      "metadata": {
        "id": "DgFNTzu3iFyl"
      }
    },
    {
      "cell_type": "code",
      "source": [
        "# Here is an algorithm for using square and multiply to\n",
        "# compute exponential functions of great size with a modular\n",
        "\n",
        "def square_mult (x,b,n):\n",
        "  \"\"\"x is the base, b is the exponenet, and n is the modular. Returns the number in the mod\"\"\"\n",
        "  b = int(b)\n",
        "  z = 1\n",
        "  binary = str(bin(b))[2:]\n",
        "  l = len(binary)\n",
        "  for i in range(0,(l)):\n",
        "    z = (z*z) % n\n",
        "    if (int(binary[i]) == 1):\n",
        "      z = (z*x) % n\n",
        "  return z"
      ],
      "metadata": {
        "id": "LZtDr8Yf9MBJ"
      },
      "execution_count": null,
      "outputs": []
    },
    {
      "cell_type": "code",
      "execution_count": null,
      "metadata": {
        "colab": {
          "base_uri": "https://localhost:8080/",
          "height": 35
        },
        "id": "Pu1EszJZXSmW",
        "outputId": "db38820c-5daf-4913-891b-8ebef53203a2"
      },
      "outputs": [
        {
          "output_type": "execute_result",
          "data": {
            "text/plain": [
              "'n is composite'"
            ],
            "application/vnd.google.colaboratory.intrinsic+json": {
              "type": "string"
            }
          },
          "metadata": {},
          "execution_count": 46
        }
      ],
      "source": [
        "import numpy as np\n",
        "import pandas as pd\n",
        "\n",
        "\n",
        "def jacobi(a, n):\n",
        "  \"\"\"Returns the Jacobi of a number and it's mod\"\"\"\n",
        "    if n <= 0:\n",
        "        raise ValueError(\"'n' must be a positive integer.\")\n",
        "    if n % 2 == 0:\n",
        "        raise ValueError(\"'n' must be odd.\")\n",
        "    a %= n\n",
        "    result = 1\n",
        "    while a != 0:\n",
        "        while a % 2 == 0:\n",
        "            a /= 2\n",
        "            n_mod_8 = n % 8\n",
        "            if n_mod_8 in (3, 5):\n",
        "                result = -result\n",
        "        a, n = n, a\n",
        "        if a % 4 == 3 and n % 4 == 3:\n",
        "            result = -result\n",
        "        a %= n\n",
        "    if n == 1:\n",
        "        return result\n",
        "    else:\n",
        "        return 0\n",
        "\n",
        "def Solovay_Alg(n):\n",
        "  \"\"\"Returns whether n is composite or prime using the Solovay Algorithm\"\"\"\n",
        "  a = np.random.randint(2,n)\n",
        "  x = jacobi(a,n)\n",
        "  if (x == 0):\n",
        "    return 'n is composite'\n",
        "  y = square_mult(a, (n-1)/2, n)\n",
        "  if (x == y):\n",
        "    return 'n is prime'\n",
        "  else:\n",
        "    return 'n is composite'\n",
        "\n",
        "Solovay_Alg(804509)\n"
      ]
    },
    {
      "cell_type": "code",
      "source": [
        "import math\n",
        "import pandas as pd\n",
        "import numpy as np\n",
        "\n",
        "def Euclid_Alg(a,b):\n",
        "  \"\"\"Uses the Euclidean Algorithm and returns table with u_i and v_i\"\"\"\n",
        "  if (a < b):\n",
        "    a_old = a\n",
        "    b_old = b\n",
        "    a = b_old\n",
        "    b = a_old\n",
        "  table = [[1,0,0,1,a,b,0]]\n",
        "  i = 1\n",
        "  while (table[i-1][5] != 0):\n",
        "    q = math.floor(table[i-1][4]/table[i-1][5])\n",
        "    u_1 = table[i-1][1]\n",
        "    v_1 = table[i-1][0] - (q*table[i-1][1])\n",
        "    u_2 = table[i-1][3]\n",
        "    v_2 = table[i-1][2] - (q*table[i-1][3])\n",
        "    u_3 = table[i-1][5]\n",
        "    v_3 = table[i-1][4] - (q*table[i-1][5])\n",
        "    table.append([u_1,v_1,u_2,v_2,u_3,v_3,q])\n",
        "    i+=1\n",
        "  return table\n",
        "\n",
        "def quadratic(a,b,c):\n",
        "  \"\"\"The quadratic formula which returns a list of roots\"\"\"\n",
        "  d = b*b - 4*a*c\n",
        "  if (d < 0):\n",
        "    return 'not real'\n",
        "  else:\n",
        "    return [(-b - np.sqrt(d))/(2 * a),(-b + np.sqrt(d))/(2 * a)]\n",
        "\n",
        "def Wiener_Alg(n,b):\n",
        "  \"\"\"Returns a table utilizing Wiener's Algorithm\"\"\"\n",
        "  table = Euclid_Alg(b,n)\n",
        "  q = [0]\n",
        "  for i in range(len(table)):\n",
        "    q.append(table[i][6])\n",
        "  c = [1,q[0]]\n",
        "  d = [0,1]\n",
        "  a = [0,0]\n",
        "  new_table = [[0,q[0],c[0],d[0],a[0]],[1,q[1],c[1],d[1],a[1]]]\n",
        "  for j in range(2, len(q)):\n",
        "    c.append((q[j]*c[j-1])+c[j-2])\n",
        "    d.append((q[j]*d[j-1])+d[j-2])\n",
        "    a.append(((d[j]*b)-1)/c[j])\n",
        "    new_table.append([j,q[j],c[j],d[j],a[j]])\n",
        "    if (round(a[j]) == a[j]):\n",
        "      roots = quadratic(1,-(n-a[j]+1),n)\n",
        "      if (np.round(roots[0]) == roots[0] and roots[0] >= 0 and\n",
        "          np.round(roots[1]) == roots[1]  and roots[1] >= 0):\n",
        "        return roots,table\n",
        "  return 'failure'\n",
        "\n",
        "roots, table = Wiener_Alg(90581,17993)\n",
        "print(pd.DataFrame(table))\n",
        "print(roots)\n"
      ],
      "metadata": {
        "colab": {
          "base_uri": "https://localhost:8080/"
        },
        "id": "MHAhM7rXey4F",
        "outputId": "c10bf1c4-f2a6-424a-e78d-7b5f403faa84"
      },
      "execution_count": null,
      "outputs": [
        {
          "output_type": "stream",
          "name": "stdout",
          "text": [
            "      0      1      2      3      4      5   6\n",
            "0     1      0      0      1  90581  17993   0\n",
            "1     0      1      1     -5  17993    616   5\n",
            "2     1    -29     -5    146    616    129  29\n",
            "3   -29    117    146   -589    129    100   4\n",
            "4   117   -146   -589    735    100     29   1\n",
            "5  -146    555    735  -2794     29     13   3\n",
            "6   555  -1256  -2794   6323     13      3   2\n",
            "7 -1256   5579   6323 -28086      3      1   4\n",
            "8  5579 -17993 -28086  90581      1      0   3\n",
            "[239.0, 379.0]\n"
          ]
        }
      ]
    },
    {
      "cell_type": "code",
      "source": [
        "import numpy as np\n",
        "import pandas as pd\n",
        "\n",
        "def Pollard_Alg(n,B):\n",
        "  \"\"\"Uses Pollard P-1 Algorithm to find the roots of a number n\"\"\"\n",
        "  a = 2\n",
        "  for j in range(2,B+1):\n",
        "    a = square_mult(a,j,n)\n",
        "    d = np.gcd(a-1,n)\n",
        "    if (d > 1 and d < n):\n",
        "      return d\n",
        "  return 'failure'\n",
        "\n",
        "d = Pollard_Alg(49349, 5)\n",
        "print(\"The factors of 49349 are: \" + str(d) + \" and \" + str(int(49349/d)))\n"
      ],
      "metadata": {
        "colab": {
          "base_uri": "https://localhost:8080/"
        },
        "id": "STOtCn0KruYj",
        "outputId": "a2b46f26-aa31-4e4d-b081-6e16532e2990"
      },
      "execution_count": null,
      "outputs": [
        {
          "output_type": "stream",
          "name": "stdout",
          "text": [
            "The factors of 49349 are: 61 and 809\n"
          ]
        }
      ]
    },
    {
      "cell_type": "code",
      "source": [
        "import numpy as np\n",
        "import pandas as pd\n",
        "\n",
        "def function(x,a,b,alpha,beta,n,order):\n",
        "  \"\"\"Helper function for Pollard Rho\"\"\"\n",
        "  if(x%3 == 1):\n",
        "    return [(beta*x) % n,a,(b+1)% order]\n",
        "  elif(x%3 == 0):\n",
        "    return [(x*x) % n,(2*a) % order,(2*b) % order]\n",
        "  else:\n",
        "    return [(alpha*x) % n,(a+1) % order,b]\n",
        "\n",
        "def Pollard_Rho_Alg(n, alpha, beta, order):\n",
        "  \"\"\"Utilizes Pollard Rho Algorithm to compute a log in Z* mod n\"\"\"\n",
        "  func_points = [[1,0,0]]\n",
        "  found = False\n",
        "  j = 1\n",
        "  while (found == False):\n",
        "    func_points.append(function(func_points[j-1][0],func_points[j-1][1],func_points[j-1][2],alpha,beta,n,order))\n",
        "    print(func_points[j])\n",
        "    if (j%2 == 0):\n",
        "      if (func_points[j][0] == func_points[j//2][0]):\n",
        "        found = True\n",
        "    j+=1\n",
        "  print('Collison occured at j = ' + str(j-1))\n",
        "\n",
        "  a = func_points[(j-1)//2][1] - func_points[j-1][1]\n",
        "  b = func_points[j-1][2]-func_points[(j-1)//2][2]\n",
        "  b_inverse = pow(b,-1,order)\n",
        "  return (a*b_inverse) % n\n",
        "\n",
        "print(Pollard_Rho_Alg(383,2,228,191))\n"
      ],
      "metadata": {
        "colab": {
          "base_uri": "https://localhost:8080/"
        },
        "id": "HNggVHrwgEeW",
        "outputId": "b4699c0a-9b5f-4cab-c5f8-b0cdebd5e80e"
      },
      "execution_count": null,
      "outputs": [
        {
          "output_type": "stream",
          "name": "stdout",
          "text": [
            "[228, 0, 1]\n",
            "[279, 0, 2]\n",
            "[92, 0, 4]\n",
            "[184, 1, 4]\n",
            "[205, 1, 5]\n",
            "[14, 1, 6]\n",
            "[28, 2, 6]\n",
            "[256, 2, 7]\n",
            "[152, 2, 8]\n",
            "[304, 3, 8]\n",
            "[372, 3, 9]\n",
            "[121, 6, 18]\n",
            "[12, 6, 19]\n",
            "[144, 12, 38]\n",
            "[54, 24, 76]\n",
            "[235, 48, 152]\n",
            "[343, 48, 153]\n",
            "[72, 48, 154]\n",
            "[205, 96, 117]\n",
            "[14, 96, 118]\n",
            "[28, 97, 118]\n",
            "[256, 97, 119]\n",
            "[152, 97, 120]\n",
            "[304, 98, 120]\n",
            "[372, 98, 121]\n",
            "[121, 5, 51]\n",
            "[12, 5, 52]\n",
            "[144, 10, 104]\n",
            "Collison occured at j = 28\n",
            "110\n"
          ]
        }
      ]
    },
    {
      "cell_type": "code",
      "source": [
        "import numpy as np\n",
        "import pandas as pd\n",
        "\n",
        "def Shanks_Alg(n,alpha,beta):\n",
        "  \"\"\"Computes the point on an elliptic curve using Shanks Algorithm\"\"\"\n",
        "  m = int(np.floor(np.sqrt(n))) + 1\n",
        "  pairs_1 = []\n",
        "  pairs_2 = []\n",
        "  for j in range(0,m):\n",
        "    temp = square_mult(alpha,j*m,n)\n",
        "    pairs_1.append([j,temp])\n",
        "  for i in range(0,m):\n",
        "    pairs_2.append([i,(beta*pow(square_mult(alpha,i,n),-1,n)) % n])\n",
        "  for k in range(0,m):\n",
        "    for l in range(0,m):\n",
        "      if (pairs_1[k][1] == pairs_2[l][1]):\n",
        "        return (m*pairs_1[k][0]) + pairs_2[l][0]\n",
        "  return 'Nothing Found'\n",
        "\n",
        "print(Shanks_Alg(47,5,10))"
      ],
      "metadata": {
        "colab": {
          "base_uri": "https://localhost:8080/"
        },
        "id": "9zPEMUf1NBf5",
        "outputId": "0fc4d8df-bf19-4fd2-e19b-1581eb4cb330"
      },
      "execution_count": null,
      "outputs": [
        {
          "output_type": "stream",
          "name": "stdout",
          "text": [
            "19\n"
          ]
        }
      ]
    },
    {
      "cell_type": "markdown",
      "source": [
        "Consider the elliptic curve E defined by y^2 = x^3 + 1. It is known that the only points on this curve that have\n",
        "integer coordinates are (−1, 0), (0, ±1), (2, ±3).Take these five points, along with the sixth point O that is the\n",
        "“point at infinity” as defined in the class. Show that these six points, under the point-addition operation defined\n",
        "in class, form a group by constructing a group table for these six points."
      ],
      "metadata": {
        "id": "ThfVS5K2avDY"
      }
    },
    {
      "cell_type": "code",
      "source": [
        "\n",
        "import numpy as np\n",
        "import pandas as pd\n",
        "\n",
        "def elliptic_curve(a,b):\n",
        "  \"\"\"Computes the points on a elliptic curve crypto system given the a and b\"\"\"\n",
        "  points = [(0,0),(-1,0),(0,1),(0,-1),(2,3),(2,-3)]\n",
        "  table = []\n",
        "  for i in range(0, len(points)):\n",
        "    row = []\n",
        "    for j in range(0, len(points)):\n",
        "      if (points[i][0] == 0 and points[i][1] == 0):\n",
        "        row.append(points[j])\n",
        "      elif (points[j][0] == 0 and points[j][1] == 0):\n",
        "        row.append(points[i])\n",
        "      elif (points[i][0] != points[j][0]):\n",
        "        l = (points[j][1] - points[i][1])/((points[j][0] - points[i][0]))\n",
        "        x_3 = (l*l) - points[i][0] - points[j][0]\n",
        "        y_3 = l*(points[i][0] - x_3) - points[i][1]\n",
        "        row.append((int(x_3),int(y_3)))\n",
        "      elif (points[i][0] == points[j][0] and points[i][1] == -points[j][1]):\n",
        "        row.append((0,0))\n",
        "      elif (points[i][0] == points[j][0] and points[i][1] == points[j][1]):\n",
        "        numerator = 3*(points[i][0] * points[i][0]) + a\n",
        "        denominator = 2*(points[i][1])\n",
        "        l = numerator / denominator\n",
        "        x_3 = (l*l) - 2*(points[i][0])\n",
        "        y_3 = l*(points[i][0] - x_3) - points[i][1]\n",
        "        row.append((int(x_3),int(y_3)))\n",
        "    table.append(row)\n",
        "  return table\n",
        "\n",
        "print(pd.DataFrame(elliptic_curve(0,1),\n",
        "  index=('(0,0)','(-1,0)','(0,1)','(0,-1)','(2,3)','(2,-3)'),\n",
        "  columns=('(0,0)','(-1,0)','(0,1)','(0,-1)','(2,3)','(2,-3)')))"
      ],
      "metadata": {
        "id": "cMnCqX1dVWN5",
        "colab": {
          "base_uri": "https://localhost:8080/"
        },
        "outputId": "94f4d0e9-6a69-4e87-c41a-d4c6f752c268"
      },
      "execution_count": null,
      "outputs": [
        {
          "output_type": "stream",
          "name": "stdout",
          "text": [
            "          (0,0)   (-1,0)    (0,1)   (0,-1)    (2,3)   (2,-3)\n",
            "(0,0)    (0, 0)  (-1, 0)   (0, 1)  (0, -1)   (2, 3)  (2, -3)\n",
            "(-1,0)  (-1, 0)   (0, 0)  (2, -3)   (2, 3)  (0, -1)   (0, 1)\n",
            "(0,1)    (0, 1)  (2, -3)  (0, -1)   (0, 0)  (-1, 0)   (2, 3)\n",
            "(0,-1)  (0, -1)   (2, 3)   (0, 0)   (0, 1)  (2, -3)  (-1, 0)\n",
            "(2,3)    (2, 3)  (0, -1)  (-1, 0)  (2, -3)   (0, 1)   (0, 0)\n",
            "(2,-3)  (2, -3)   (0, 1)   (2, 3)  (-1, 0)   (0, 0)  (0, -1)\n"
          ]
        }
      ]
    },
    {
      "cell_type": "markdown",
      "source": [
        "Let E be the elliptic curve y 2 = x3 + x + 26 defined over Z_127 and consider the point P = (2, 6) on E. Using\n",
        "the NAF representation of 27, compute 27P with the help of Double-and-Add or Subtract algorithm. Show the\n",
        "partial results during each iteration of the algorithm."
      ],
      "metadata": {
        "id": "B0DWYKF36Wul"
      }
    },
    {
      "cell_type": "code",
      "source": [
        "import numpy as np\n",
        "import pandas as pd\n",
        "\n",
        "def NAF(binary_number):\n",
        "    naf_representation = []\n",
        "    while binary_number > 0:\n",
        "        if binary_number % 2 == 1:\n",
        "            naf_representation.append(2 - (binary_number % 4))\n",
        "            if binary_number % 4 == 3:\n",
        "                binary_number += 1\n",
        "            else:\n",
        "                binary_number -= 1\n",
        "        else:\n",
        "            naf_representation.append(0)\n",
        "        binary_number //= 2\n",
        "    return naf_representation[::-1]\n",
        "\n",
        "def compute_Lambda(P,Q,a,n):\n",
        "  if (P != Q):\n",
        "    return ((Q[1]-P[1]) * pow(Q[0]-P[0],-1,n)) % n\n",
        "  else:\n",
        "    return ((3*(P[0] * P[0]) + a) * pow(2*P[1],-1,n)) % n\n",
        "\n",
        "\n",
        "def add_points(P,Q,a,n):\n",
        "  if (P == (0,0)):\n",
        "    return Q\n",
        "  if (Q == (0,0)):\n",
        "    return P\n",
        "\n",
        "  l = compute_Lambda(P,Q,a,n)\n",
        "  x_3 = ((l*l) - P[0] - Q[0]) % n\n",
        "  y_3 = (l*(P[0] - x_3) - P[1]) % n\n",
        "\n",
        "  return (x_3,y_3)\n",
        "\n",
        "\n",
        "\n",
        "def Double_Add_Sub(P,c,a,n):\n",
        "  table = []\n",
        "  neg_P = (P[0],-P[1])\n",
        "  Q = (0,0)\n",
        "  for i in range(0,len(c)):\n",
        "    row = []\n",
        "    row.append(i)\n",
        "    row.append(c[i])\n",
        "    old_Q = Q\n",
        "    Q = add_points(Q,Q,a,n)\n",
        "\n",
        "    if (c[i] == 1):\n",
        "      row.append('2*'+ str(old_Q) + ' + ' + str(P))\n",
        "      Q = add_points(Q,P,a,n)\n",
        "    elif (c[i] == -1):\n",
        "      row.append('2*'+ str(old_Q) + ' - ' + str(P))\n",
        "      Q = add_points(Q,neg_P,a,n)\n",
        "\n",
        "    else:\n",
        "      row.append('2*'+ str(old_Q))\n",
        "    row.append(str(Q))\n",
        "    table.append(row)\n",
        "  return table\n",
        "\n",
        "print(pd.DataFrame(Double_Add_Sub((2,6),NAF(27),1,127)))"
      ],
      "metadata": {
        "colab": {
          "base_uri": "https://localhost:8080/"
        },
        "id": "pwlv-Jjg6fGu",
        "outputId": "75c3c5ca-a953-4f1f-ff62-170464b8e410"
      },
      "execution_count": null,
      "outputs": [
        {
          "output_type": "stream",
          "name": "stdout",
          "text": [
            "   0  1                    2          3\n",
            "0  0  1    2*(0, 0) + (2, 6)     (2, 6)\n",
            "1  1  0             2*(2, 6)  (118, 80)\n",
            "2  2  0          2*(118, 80)   (82, 13)\n",
            "3  3 -1  2*(82, 13) - (2, 6)   (75, 92)\n",
            "4  4  0           2*(75, 92)   (71, 54)\n",
            "5  5 -1  2*(71, 54) - (2, 6)   (38, 96)\n"
          ]
        }
      ]
    },
    {
      "cell_type": "markdown",
      "source": [
        "Alice sets up an NTRU system with numerical keys (that is, a congruential cryptosystem), with q = 918293817\n",
        "and private keys (f , g) = (19928, 18643)"
      ],
      "metadata": {
        "id": "rMdvHI0d8tVO"
      }
    },
    {
      "cell_type": "code",
      "source": [
        "import numpy as np\n",
        "import pandas as pd\n",
        "\n",
        "def f_inverse(f,q):\n",
        "  \"\"\"Finds the inverse of a number in a modular\"\"\"\n",
        "  return pow(f,-1,q)\n",
        "\n",
        "def NTRU_numerical(q,f,g,c):\n",
        "  \"\"\"Uses NTRU to find the b\"\"\"\n",
        "  f_inv_q = f_inverse(f,q)\n",
        "  h = (f_inv_q*g) % q\n",
        "  print(\"Alice's public key h is: \" + str(h))\n",
        "  f_inv_g = f_inverse(f,g)\n",
        "  a = (f*c) % q\n",
        "  b = (a*f_inv_g) % g\n",
        "  return b\n",
        "\n",
        "def Bob_Encrypt(m,r,q,f,g):\n",
        "  \"\"\"Encrypting Bob's Message\"\"\"\n",
        "  f_inv = f_inverse(f,q)\n",
        "  h = (f_inv*g) % q\n",
        "  c = ((r*h) + m) % q\n",
        "  return c\n",
        "\n",
        "print(\"The decrypted message that Bob sent is: \" +\n",
        "      str(NTRU_numerical(918293817,19928,18643,619168806)))\n",
        "\n",
        "print(\"The encrypted message that Bob is trying to send is: \" +\n",
        "      str(Bob_Encrypt(10220,19564,918293817,19928,18643)))"
      ],
      "metadata": {
        "colab": {
          "base_uri": "https://localhost:8080/"
        },
        "id": "HrKbfz1SteEx",
        "outputId": "6593ef4e-6097-4a20-9663-603587cdec42"
      },
      "execution_count": null,
      "outputs": [
        {
          "output_type": "stream",
          "name": "stdout",
          "text": [
            "Alice's public key h is: 767748560\n",
            "The decrypted message that Bob sent is: 11818\n",
            "The encrypted message that Bob is trying to send is: 619167208\n"
          ]
        }
      ]
    }
  ]
}